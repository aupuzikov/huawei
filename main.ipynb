{
 "cells": [
  {
   "cell_type": "markdown",
   "metadata": {
    "toc": true
   },
   "source": [
    "<h1>Table of Contents<span class=\"tocSkip\"></span></h1>\n",
    "<div class=\"toc\"><ul class=\"toc-item\"><li><span><a href=\"#Бинарный-классификатор-голосов\" data-toc-modified-id=\"Бинарный-классификатор-голосов-1\"><span class=\"toc-item-num\">1&nbsp;&nbsp;</span>Бинарный классификатор голосов</a></span><ul class=\"toc-item\"><li><span><a href=\"#всякие-установки\" data-toc-modified-id=\"всякие-установки-1.1\"><span class=\"toc-item-num\">1.1&nbsp;&nbsp;</span>всякие установки</a></span></li><li><span><a href=\"#всякие-импорты\" data-toc-modified-id=\"всякие-импорты-1.2\"><span class=\"toc-item-num\">1.2&nbsp;&nbsp;</span>всякие импорты</a></span></li><li><span><a href=\"#загрузка-датасета\" data-toc-modified-id=\"загрузка-датасета-1.3\"><span class=\"toc-item-num\">1.3&nbsp;&nbsp;</span>загрузка датасета</a></span></li><li><span><a href=\"#нейроночки\" data-toc-modified-id=\"нейроночки-1.4\"><span class=\"toc-item-num\">1.4&nbsp;&nbsp;</span>нейроночки</a></span><ul class=\"toc-item\"><li><span><a href=\"#обычная-модель\" data-toc-modified-id=\"обычная-модель-1.4.1\"><span class=\"toc-item-num\">1.4.1&nbsp;&nbsp;</span>обычная модель</a></span><ul class=\"toc-item\"><li><span><a href=\"#датасет\" data-toc-modified-id=\"датасет-1.4.1.1\"><span class=\"toc-item-num\">1.4.1.1&nbsp;&nbsp;</span>датасет</a></span></li><li><span><a href=\"#цикл-тренировки\" data-toc-modified-id=\"цикл-тренировки-1.4.1.2\"><span class=\"toc-item-num\">1.4.1.2&nbsp;&nbsp;</span>цикл тренировки</a></span></li><li><span><a href=\"#проверка-на-тесте\" data-toc-modified-id=\"проверка-на-тесте-1.4.1.3\"><span class=\"toc-item-num\">1.4.1.3&nbsp;&nbsp;</span>проверка на тесте</a></span></li><li><span><a href=\"#резы-на-тесте\" data-toc-modified-id=\"резы-на-тесте-1.4.1.4\"><span class=\"toc-item-num\">1.4.1.4&nbsp;&nbsp;</span>резы на тесте</a></span></li></ul></li><li><span><a href=\"#модель-с-пересекающимися-окнами-для-FFT\" data-toc-modified-id=\"модель-с-пересекающимися-окнами-для-FFT-1.4.2\"><span class=\"toc-item-num\">1.4.2&nbsp;&nbsp;</span>модель с пересекающимися окнами для FFT</a></span><ul class=\"toc-item\"><li><span><a href=\"#датасет\" data-toc-modified-id=\"датасет-1.4.2.1\"><span class=\"toc-item-num\">1.4.2.1&nbsp;&nbsp;</span>датасет</a></span></li><li><span><a href=\"#цикл\" data-toc-modified-id=\"цикл-1.4.2.2\"><span class=\"toc-item-num\">1.4.2.2&nbsp;&nbsp;</span>цикл</a></span></li><li><span><a href=\"#резы-на-тесте\" data-toc-modified-id=\"резы-на-тесте-1.4.2.3\"><span class=\"toc-item-num\">1.4.2.3&nbsp;&nbsp;</span>резы на тесте</a></span></li></ul></li></ul></li><li><span><a href=\"#тензорборда-и-заключение\" data-toc-modified-id=\"тензорборда-и-заключение-1.5\"><span class=\"toc-item-num\">1.5&nbsp;&nbsp;</span>тензорборда и заключение</a></span></li></ul></li></ul></div>"
   ]
  },
  {
   "cell_type": "markdown",
   "metadata": {},
   "source": [
    "# Бинарный классификатор голосов\n",
    "\n",
    "\n",
    "Задача:  Классификатор мужских и женских голосов на базе LibriTTS\n",
    "\n",
    "На что мы обращаем внимание при оценке результата:\n",
    "\n",
    "1 Код \n",
    "\n",
    "    структурированный хорошо комментированный и понятный (отделены: предобработка, train/test),\n",
    "    есть краткое readme: как запустить и какие дополнительные данные использовали\n",
    "\n",
    "2 Описание результатов:\n",
    "\n",
    "    Анализ данных\n",
    "    Выбор метода (Как выбирали?), \n",
    "    Описание экспериментов\n",
    "    Анализ результатов и аргументированные предложения по дальнейшему улучшению\n",
    "\n",
    "\n",
    "Важно:  мы оцениваем ваше знания и навыки  в ЦОС, ML/DL, программировании и культуре проведения экспериментов. Мы НЕ рекомендуем фокусироваться на больших датасетах и использовании многих GPU. Важнее не показать state-of-the-art результат в плане точности/качества решения, а продемонстрировать решение на разумном датасете и продемонстрировать адекватное решение (при условии заданного датасета и вычислительных мощностей), раскрывающее навыки в постановке задачи обучения, постановке эксперимента и анализе его результатов.\n"
   ]
  },
  {
   "cell_type": "markdown",
   "metadata": {},
   "source": [
    "## всякие установки"
   ]
  },
  {
   "cell_type": "code",
   "execution_count": 1,
   "metadata": {
    "ExecuteTime": {
     "end_time": "2022-09-04T13:29:40.909542Z",
     "start_time": "2022-09-04T13:29:29.138601Z"
    },
    "colab": {
     "base_uri": "https://localhost:8080/"
    },
    "id": "AzXBoS77p8fM",
    "outputId": "ce6d2a3b-767e-4379-8537-1bba7de3c941"
   },
   "outputs": [
    {
     "name": "stdout",
     "output_type": "stream",
     "text": [
      "Requirement already satisfied: PySoundFile in d:\\users\\eskander\\venv\\yet_another_env\\lib\\site-packages (0.9.0.post1)\n",
      "Requirement already satisfied: cffi>=0.6 in d:\\users\\eskander\\venv\\yet_another_env\\lib\\site-packages (from PySoundFile) (1.15.0)\n",
      "Requirement already satisfied: pycparser in d:\\users\\eskander\\venv\\yet_another_env\\lib\\site-packages (from cffi>=0.6->PySoundFile) (2.21)\n",
      "\n",
      "[notice] A new release of pip available: 22.1.2 -> 22.2.2\n",
      "[notice] To update, run: python.exe -m pip install --upgrade pip\n",
      "Looking in indexes: https://pypi.org/simple, https://download.pytorch.org/whl/cu113\n",
      "Requirement already satisfied: torch in d:\\users\\eskander\\venv\\yet_another_env\\lib\\site-packages (1.10.0+cu113)\n",
      "Requirement already satisfied: torchvision in d:\\users\\eskander\\venv\\yet_another_env\\lib\\site-packages (0.11.0+cu113)\n",
      "Requirement already satisfied: torchaudio in d:\\users\\eskander\\venv\\yet_another_env\\lib\\site-packages (0.10.0+cu113)\n",
      "Requirement already satisfied: typing-extensions in d:\\users\\eskander\\venv\\yet_another_env\\lib\\site-packages (from torch) (3.10.0.2)\n",
      "Requirement already satisfied: numpy in d:\\users\\eskander\\venv\\yet_another_env\\lib\\site-packages (from torchvision) (1.21.4)\n",
      "Requirement already satisfied: pillow!=8.3.0,>=5.3.0 in d:\\users\\eskander\\venv\\yet_another_env\\lib\\site-packages (from torchvision) (8.4.0)\n",
      "\n",
      "[notice] A new release of pip available: 22.1.2 -> 22.2.2\n",
      "[notice] To update, run: python.exe -m pip install --upgrade pip\n",
      "Requirement already satisfied: librosa in d:\\users\\eskander\\venv\\yet_another_env\\lib\\site-packages (0.9.2)\n",
      "Requirement already satisfied: numba>=0.45.1 in d:\\users\\eskander\\venv\\yet_another_env\\lib\\site-packages (from librosa) (0.55.1)\n",
      "Requirement already satisfied: resampy>=0.2.2 in d:\\users\\eskander\\venv\\yet_another_env\\lib\\site-packages (from librosa) (0.4.0)\n",
      "Requirement already satisfied: scikit-learn>=0.19.1 in d:\\users\\eskander\\venv\\yet_another_env\\lib\\site-packages (from librosa) (1.0.1)\n",
      "Requirement already satisfied: decorator>=4.0.10 in d:\\users\\eskander\\venv\\yet_another_env\\lib\\site-packages (from librosa) (5.1.0)\n",
      "Requirement already satisfied: joblib>=0.14 in d:\\users\\eskander\\venv\\yet_another_env\\lib\\site-packages (from librosa) (1.0.1)\n",
      "Requirement already satisfied: soundfile>=0.10.2 in d:\\users\\eskander\\venv\\yet_another_env\\lib\\site-packages (from librosa) (0.10.3.post1)\n",
      "Requirement already satisfied: pooch>=1.0 in d:\\users\\eskander\\venv\\yet_another_env\\lib\\site-packages (from librosa) (1.6.0)\n",
      "Requirement already satisfied: scipy>=1.2.0 in d:\\users\\eskander\\venv\\yet_another_env\\lib\\site-packages (from librosa) (1.7.2)\n",
      "Requirement already satisfied: numpy>=1.17.0 in d:\\users\\eskander\\venv\\yet_another_env\\lib\\site-packages (from librosa) (1.21.4)\n",
      "Requirement already satisfied: audioread>=2.1.9 in d:\\users\\eskander\\venv\\yet_another_env\\lib\\site-packages (from librosa) (3.0.0)\n",
      "Requirement already satisfied: packaging>=20.0 in d:\\users\\eskander\\venv\\yet_another_env\\lib\\site-packages (from librosa) (21.2)\n",
      "Requirement already satisfied: setuptools in d:\\users\\eskander\\venv\\yet_another_env\\lib\\site-packages (from numba>=0.45.1->librosa) (59.5.0)\n",
      "Requirement already satisfied: llvmlite<0.39,>=0.38.0rc1 in d:\\users\\eskander\\venv\\yet_another_env\\lib\\site-packages (from numba>=0.45.1->librosa) (0.38.0)\n",
      "Requirement already satisfied: pyparsing<3,>=2.0.2 in d:\\users\\eskander\\venv\\yet_another_env\\lib\\site-packages (from packaging>=20.0->librosa) (2.4.7)\n",
      "Requirement already satisfied: requests>=2.19.0 in d:\\users\\eskander\\venv\\yet_another_env\\lib\\site-packages (from pooch>=1.0->librosa) (2.26.0)\n",
      "Requirement already satisfied: appdirs>=1.3.0 in d:\\users\\eskander\\venv\\yet_another_env\\lib\\site-packages (from pooch>=1.0->librosa) (1.4.4)\n",
      "Requirement already satisfied: threadpoolctl>=2.0.0 in d:\\users\\eskander\\venv\\yet_another_env\\lib\\site-packages (from scikit-learn>=0.19.1->librosa) (3.0.0)\n",
      "Requirement already satisfied: cffi>=1.0 in d:\\users\\eskander\\venv\\yet_another_env\\lib\\site-packages (from soundfile>=0.10.2->librosa) (1.15.0)\n",
      "Requirement already satisfied: pycparser in d:\\users\\eskander\\venv\\yet_another_env\\lib\\site-packages (from cffi>=1.0->soundfile>=0.10.2->librosa) (2.21)\n",
      "Requirement already satisfied: urllib3<1.27,>=1.21.1 in d:\\users\\eskander\\venv\\yet_another_env\\lib\\site-packages (from requests>=2.19.0->pooch>=1.0->librosa) (1.26.7)\n",
      "Requirement already satisfied: certifi>=2017.4.17 in d:\\users\\eskander\\venv\\yet_another_env\\lib\\site-packages (from requests>=2.19.0->pooch>=1.0->librosa) (2021.10.8)\n",
      "Requirement already satisfied: charset-normalizer~=2.0.0 in d:\\users\\eskander\\venv\\yet_another_env\\lib\\site-packages (from requests>=2.19.0->pooch>=1.0->librosa) (2.0.7)\n",
      "Requirement already satisfied: idna<4,>=2.5 in d:\\users\\eskander\\venv\\yet_another_env\\lib\\site-packages (from requests>=2.19.0->pooch>=1.0->librosa) (3.3)\n",
      "\n",
      "[notice] A new release of pip available: 22.1.2 -> 22.2.2\n",
      "[notice] To update, run: python.exe -m pip install --upgrade pip\n",
      "Requirement already satisfied: torchmetrics in d:\\users\\eskander\\venv\\yet_another_env\\lib\\site-packages (0.6.0)\n",
      "Requirement already satisfied: packaging in d:\\users\\eskander\\venv\\yet_another_env\\lib\\site-packages (from torchmetrics) (21.2)\n",
      "Requirement already satisfied: numpy>=1.17.2 in d:\\users\\eskander\\venv\\yet_another_env\\lib\\site-packages (from torchmetrics) (1.21.4)\n",
      "Requirement already satisfied: torch>=1.3.1 in d:\\users\\eskander\\venv\\yet_another_env\\lib\\site-packages (from torchmetrics) (1.10.0+cu113)\n",
      "Requirement already satisfied: typing-extensions in d:\\users\\eskander\\venv\\yet_another_env\\lib\\site-packages (from torch>=1.3.1->torchmetrics) (3.10.0.2)\n",
      "Requirement already satisfied: pyparsing<3,>=2.0.2 in d:\\users\\eskander\\venv\\yet_another_env\\lib\\site-packages (from packaging->torchmetrics) (2.4.7)\n",
      "\n",
      "[notice] A new release of pip available: 22.1.2 -> 22.2.2\n",
      "[notice] To update, run: python.exe -m pip install --upgrade pip\n",
      "\n",
      "[notice] A new release of pip available: 22.1.2 -> 22.2.2\n",
      "[notice] To update, run: python.exe -m pip install --upgrade pip\n"
     ]
    },
    {
     "name": "stderr",
     "output_type": "stream",
     "text": [
      "ERROR: Could not find a version that satisfies the requirement json (from versions: none)\n",
      "ERROR: No matching distribution found for json\n"
     ]
    },
    {
     "name": "stdout",
     "output_type": "stream",
     "text": [
      "Requirement already satisfied: ipywebrtc in d:\\users\\eskander\\venv\\yet_another_env\\lib\\site-packages (0.6.0)\n",
      "\n",
      "[notice] A new release of pip available: 22.1.2 -> 22.2.2\n",
      "[notice] To update, run: python.exe -m pip install --upgrade pip\n"
     ]
    }
   ],
   "source": [
    "!pip3 install PySoundFile\n",
    "!pip3 install torch torchvision torchaudio --extra-index-url https://download.pytorch.org/whl/cu113\n",
    "!pip3 install librosa\n",
    "!pip3 install torchmetrics\n",
    "!pip3 install json\n",
    "!pip3 install ipywebrtc"
   ]
  },
  {
   "cell_type": "markdown",
   "metadata": {},
   "source": [
    "## всякие импорты"
   ]
  },
  {
   "cell_type": "code",
   "execution_count": 2,
   "metadata": {
    "ExecuteTime": {
     "end_time": "2022-09-04T13:29:46.680123Z",
     "start_time": "2022-09-04T13:29:40.910507Z"
    },
    "id": "YgOFkGbwlAaK"
   },
   "outputs": [],
   "source": [
    "import pandas as pd\n",
    "import pickle\n",
    "import numpy as np\n",
    "import os\n",
    "import librosa\n",
    "import torchmetrics\n",
    "import time\n",
    "from tqdm.notebook import tqdm\n",
    "import librosa.display as ld"
   ]
  },
  {
   "cell_type": "code",
   "execution_count": 3,
   "metadata": {
    "ExecuteTime": {
     "end_time": "2022-09-04T13:29:47.674340Z",
     "start_time": "2022-09-04T13:29:46.680123Z"
    },
    "colab": {
     "base_uri": "https://localhost:8080/"
    },
    "id": "sdPn9xfwp69U",
    "outputId": "2c3ea55c-e479-445b-a3af-6000504fcb68"
   },
   "outputs": [
    {
     "data": {
      "text/plain": [
       "('1.10.0+cu113', '0.10.0+cu113', '1.5.10')"
      ]
     },
     "execution_count": 3,
     "metadata": {},
     "output_type": "execute_result"
    }
   ],
   "source": [
    "import torch\n",
    "import torchaudio\n",
    "import torchaudio.datasets.libritts as libritts\n",
    "import pytorch_lightning\n",
    "from pytorch_lightning import Trainer\n",
    "from pytorch_lightning.callbacks import ModelCheckpoint, EarlyStopping\n",
    "from torch.utils.data import DataLoader, IterableDataset, Dataset\n",
    "torch.__version__, torchaudio.__version__, pytorch_lightning.__version__"
   ]
  },
  {
   "cell_type": "markdown",
   "metadata": {},
   "source": [
    "## загрузка датасета"
   ]
  },
  {
   "cell_type": "code",
   "execution_count": 4,
   "metadata": {
    "ExecuteTime": {
     "end_time": "2022-09-04T13:30:18.017947Z",
     "start_time": "2022-09-04T13:29:47.679305Z"
    },
    "colab": {
     "base_uri": "https://localhost:8080/"
    },
    "id": "5yJyNu-iqhId",
    "outputId": "48c2f5aa-d2a6-4f2b-b689-548b1cf65bfd"
   },
   "outputs": [
    {
     "data": {
      "text/plain": [
       "<torchaudio.datasets.libritts.LIBRITTS at 0x2c981996288>"
      ]
     },
     "execution_count": 4,
     "metadata": {},
     "output_type": "execute_result"
    }
   ],
   "source": [
    "\n",
    "l_tts_train = libritts.LIBRITTS(root='.',download=True)\n",
    "l_tts_train"
   ]
  },
  {
   "cell_type": "code",
   "execution_count": 5,
   "metadata": {
    "ExecuteTime": {
     "end_time": "2022-09-04T13:30:22.601961Z",
     "start_time": "2022-09-04T13:30:18.021950Z"
    },
    "colab": {
     "base_uri": "https://localhost:8080/"
    },
    "id": "4e1lEB1ZP1pv",
    "outputId": "7ebc0e6f-6854-4c47-802b-46a798fa06cd"
   },
   "outputs": [
    {
     "data": {
      "text/plain": [
       "<torchaudio.datasets.libritts.LIBRITTS at 0x2c981996c88>"
      ]
     },
     "execution_count": 5,
     "metadata": {},
     "output_type": "execute_result"
    }
   ],
   "source": [
    "l_tts_test = libritts.LIBRITTS(root='.',url='test-clean',download=True)\n",
    "l_tts_test"
   ]
  },
  {
   "cell_type": "code",
   "execution_count": 6,
   "metadata": {
    "ExecuteTime": {
     "end_time": "2022-09-04T13:30:22.661567Z",
     "start_time": "2022-09-04T13:30:22.603123Z"
    }
   },
   "outputs": [
    {
     "data": {
      "text/plain": [
       "'Y:/Documents/projects/libri_tts/freq_imgs\\\\train'"
      ]
     },
     "execution_count": 6,
     "metadata": {},
     "output_type": "execute_result"
    }
   ],
   "source": [
    "work_dir='.'\n",
    "data_path = 'Y:/Documents/projects/libri_tts/freq_imgs'\n",
    "data_train = os.path.join(data_path , 'train')\n",
    "data_test = os.path.join(data_path ,'test')\n",
    "os.makedirs(data_train, exist_ok=True)\n",
    "os.makedirs(data_test, exist_ok=True)\n",
    "data_train"
   ]
  },
  {
   "cell_type": "code",
   "execution_count": 7,
   "metadata": {
    "ExecuteTime": {
     "end_time": "2022-09-04T13:30:22.715753Z",
     "start_time": "2022-09-04T13:30:22.661567Z"
    },
    "id": "HvFGZ95f7Pem"
   },
   "outputs": [],
   "source": [
    "def load_speakers():\n",
    "    id_to_sex = dict()\n",
    "    import os\n",
    "    with open(r'LibriTTS/SPEAKERS.txt', mode='r') as f:\n",
    "        lines = f.readlines()\n",
    "    for line in lines[12:]:\n",
    "        tokens = line.split('|')\n",
    "        id_to_sex[int(tokens[0])] = 0 if tokens[1].strip() == 'M' else 1\n",
    "    return id_to_sex\n",
    "\n",
    "\n",
    "id_2_sex_map = load_speakers()"
   ]
  },
  {
   "cell_type": "code",
   "execution_count": 8,
   "metadata": {
    "ExecuteTime": {
     "end_time": "2022-09-04T13:30:22.731426Z",
     "start_time": "2022-09-04T13:30:22.716874Z"
    },
    "colab": {
     "base_uri": "https://localhost:8080/"
    },
    "id": "v3TrBH-_xsFI",
    "outputId": "1082e780-67a1-40a5-e8ed-f3e082eb4081"
   },
   "outputs": [
    {
     "data": {
      "text/plain": [
       "(33236, 4837)"
      ]
     },
     "execution_count": 8,
     "metadata": {},
     "output_type": "execute_result"
    }
   ],
   "source": [
    "len(l_tts_train), len(l_tts_test)"
   ]
  },
  {
   "cell_type": "code",
   "execution_count": 9,
   "metadata": {
    "ExecuteTime": {
     "end_time": "2022-09-04T13:30:22.827322Z",
     "start_time": "2022-09-04T13:30:22.733427Z"
    },
    "colab": {
     "base_uri": "https://localhost:8080/"
    },
    "id": "qDUTnXIjQgib",
    "outputId": "7e2a8340-5208-4c01-dada-50948c14d9f8",
    "scrolled": true
   },
   "outputs": [
    {
     "data": {
      "text/plain": [
       "(tensor([[-0.0377, -0.0374, -0.0386,  ..., -0.0211, -0.0216, -0.0210]]),\n",
       " 24000,\n",
       " 'The Law.',\n",
       " 'The Law.',\n",
       " 1034,\n",
       " 121119,\n",
       " '1034_121119_000001_000001')"
      ]
     },
     "execution_count": 9,
     "metadata": {},
     "output_type": "execute_result"
    }
   ],
   "source": [
    "first_example = l_tts_train[0]\n",
    "first_example"
   ]
  },
  {
   "cell_type": "code",
   "execution_count": 10,
   "metadata": {
    "ExecuteTime": {
     "end_time": "2022-09-04T13:30:22.842436Z",
     "start_time": "2022-09-04T13:30:22.828437Z"
    },
    "colab": {
     "base_uri": "https://localhost:8080/",
     "height": 76
    },
    "id": "XtabCH61Ovnc",
    "outputId": "cf373465-6b88-4935-99d0-3e0e8654bed9"
   },
   "outputs": [
    {
     "data": {
      "text/html": [
       "\n",
       "                <audio  controls=\"controls\" >\n",
       "                    <source src=\"data:audio/wav;base64,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\" type=\"audio/wav\" />\n",
       "                    Your browser does not support the audio element.\n",
       "                </audio>\n",
       "              "
      ],
      "text/plain": [
       "<IPython.lib.display.Audio object>"
      ]
     },
     "execution_count": 10,
     "metadata": {},
     "output_type": "execute_result"
    }
   ],
   "source": [
    "import IPython.display as ipd\n",
    "ipd.Audio(first_example[0].numpy(), rate=first_example[1])"
   ]
  },
  {
   "cell_type": "code",
   "execution_count": 11,
   "metadata": {
    "ExecuteTime": {
     "end_time": "2022-09-04T13:30:22.858440Z",
     "start_time": "2022-09-04T13:30:22.843439Z"
    }
   },
   "outputs": [],
   "source": [
    "def to_freq_imgs(libri_dataset, path: str):\n",
    "    os.makedirs(path, exist_ok=True)\n",
    "    for k in tqdm(range(len(libri_dataset))):\n",
    "        sound = libri_dataset[k]\n",
    "        spectr = make_spectr(sound[0],\n",
    "                             sound[1],\n",
    "                             top_n_freq=TOP_N_FREQ,\n",
    "                             windows_count=WINDOWS_COUNT)\n",
    "        img = np.abs(spectr.transpose())\n",
    "        sex = id_2_sex_map[sound[4]]\n",
    "        file_name = f\"{path}/{TOP_N_FREQ}f_{WINDOWS_COUNT}w_{k}_{sex}.npy\"\n",
    "        if not os.path.exists(file_name):\n",
    "            with open(file_name, \"wb\") as f:\n",
    "                np.save(f, img)"
   ]
  },
  {
   "cell_type": "code",
   "execution_count": 12,
   "metadata": {
    "ExecuteTime": {
     "end_time": "2022-09-04T13:30:22.874440Z",
     "start_time": "2022-09-04T13:30:22.859440Z"
    },
    "colab": {
     "base_uri": "https://localhost:8080/"
    },
    "id": "Tp3gvEIbQUR5",
    "outputId": "2f5d462e-0418-4ace-b935-c8f3b3919668"
   },
   "outputs": [
    {
     "data": {
      "text/plain": [
       "torch.Size([1, 16320])"
      ]
     },
     "execution_count": 12,
     "metadata": {},
     "output_type": "execute_result"
    }
   ],
   "source": [
    "first_example[0].shape"
   ]
  },
  {
   "cell_type": "code",
   "execution_count": 13,
   "metadata": {
    "ExecuteTime": {
     "end_time": "2022-09-04T13:30:23.140451Z",
     "start_time": "2022-09-04T13:30:22.877440Z"
    },
    "colab": {
     "base_uri": "https://localhost:8080/",
     "height": 304
    },
    "id": "LeTBMTXHoopa",
    "outputId": "ae9e57c2-3e10-4f19-d4d9-dab424b2a73a"
   },
   "outputs": [
    {
     "data": {
      "text/plain": [
       "array([[-1.57334076e+02+0.j        , -2.90118119e-01+2.51943349j,\n",
       "         4.29763696e+00-1.17624757j, ..., -2.61175426e-02-0.0040488j ,\n",
       "        -6.37991131e-03-0.01121272j, -4.80041504e-02+0.j        ]])"
      ]
     },
     "execution_count": 13,
     "metadata": {},
     "output_type": "execute_result"
    },
    {
     "data": {
      "image/png": "[encoded data removed]",
      "text/plain": [
       "<Figure size 432x288 with 1 Axes>"
      ]
     },
     "metadata": {},
     "output_type": "display_data"
    }
   ],
   "source": [
    "# посмотрим на результаты ФФТ\n",
    "rfft_first_example = np.fft.rfft(first_example[0].numpy())\n",
    "ld.specshow(np.abs(rfft_first_example),)\n",
    "rfft_first_example"
   ]
  },
  {
   "cell_type": "code",
   "execution_count": 14,
   "metadata": {
    "ExecuteTime": {
     "end_time": "2022-09-04T13:30:23.156458Z",
     "start_time": "2022-09-04T13:30:23.141450Z"
    },
    "id": "blmCASzVpG9m"
   },
   "outputs": [],
   "source": [
    "# делаем спектр из семпла с окнами в кол-ве windows_count без перекрытия\n",
    "# и с определённым максимальным кол-вом бинов частот top_n_freq\n",
    "def make_spectr(numpy_signal: np.array,\n",
    "                signal_rate: int,\n",
    "                windows_count=1000,\n",
    "                top_n_freq=4000) -> np.array:\n",
    "    spectr = np.zeros((windows_count, top_n_freq, 1), dtype=np.cdouble)\n",
    "    windows_size = int(len(numpy_signal[0]) / windows_count)\n",
    "    windows = np.zeros((windows_count, 1, len(numpy_signal[0])))\n",
    "    # print(windows_size)\n",
    "    for i in range(windows_count):\n",
    "        # window = np.zeros((1, len(numpy_signal[0])))\n",
    "        windows[i, 0, i * windows_size:(i + 1) *\n",
    "                windows_size] = numpy_signal[0, i * windows_size:(i + 1) *\n",
    "                                             windows_size]\n",
    "        # windows[i] = window\n",
    "        # print(window.shape)\n",
    "    rfft_signals = np.fft.rfft(windows, axis=2)\n",
    "    # print(rfft_signal.shape, rfft_signal)\n",
    "    spectr = rfft_signals[:, :, :top_n_freq]\n",
    "    return spectr.transpose(0, 2, 1)"
   ]
  },
  {
   "cell_type": "code",
   "execution_count": 15,
   "metadata": {
    "ExecuteTime": {
     "end_time": "2022-09-04T13:30:35.717570Z",
     "start_time": "2022-09-04T13:30:23.157451Z"
    },
    "colab": {
     "base_uri": "https://localhost:8080/"
    },
    "id": "KRkkDA0PJLfj",
    "outputId": "d79d7d55-eaa4-4dfe-834c-8b7ce59cad97"
   },
   "outputs": [
    {
     "data": {
      "text/plain": [
       "(300, 20000, 1)"
      ]
     },
     "execution_count": 15,
     "metadata": {},
     "output_type": "execute_result"
    }
   ],
   "source": [
    "spectr = make_spectr(l_tts_train[1][0].numpy(), l_tts_train[1][1], windows_count=300, top_n_freq=20000)\n",
    "spectr.shape"
   ]
  },
  {
   "cell_type": "code",
   "execution_count": 16,
   "metadata": {
    "ExecuteTime": {
     "end_time": "2022-09-04T13:30:38.297360Z",
     "start_time": "2022-09-04T13:30:35.718076Z"
    },
    "colab": {
     "base_uri": "https://localhost:8080/",
     "height": 275
    },
    "id": "f2ek-APjKIsP",
    "outputId": "ca7737ac-b4ff-4cc6-e7c5-f968a0ff1240"
   },
   "outputs": [
    {
     "data": {
      "text/plain": [
       "<matplotlib.collections.QuadMesh at 0x2c9847bc788>"
      ]
     },
     "execution_count": 16,
     "metadata": {},
     "output_type": "execute_result"
    },
    {
     "data": {
      "image/png": "[encoded data removed]",
      "text/plain": [
       "<Figure size 432x288 with 1 Axes>"
      ]
     },
     "metadata": {
      "needs_background": "light"
     },
     "output_type": "display_data"
    }
   ],
   "source": [
    "ld.specshow(np.abs(spectr.reshape(spectr.shape[:2])).transpose(), y_axis='fft',x_axis='frames', sr=l_tts_train[1][1])"
   ]
  },
  {
   "cell_type": "code",
   "execution_count": 17,
   "metadata": {
    "ExecuteTime": {
     "end_time": "2022-09-04T13:30:38.327659Z",
     "start_time": "2022-09-04T13:30:38.298354Z"
    },
    "id": "Mvkp1t6wTl6i"
   },
   "outputs": [],
   "source": [
    "WINDOWS_COUNT = 300 # количество окон, на которые разбивается семлп\n",
    "TOP_N_FREQ = 1000 # только первые 1000 бинов частот из fft преобразования\n",
    "TRAIN_SET_SIZE = 15000 # возьмём только половину датасета\n",
    "VALID_SET_SIZE = 2000 "
   ]
  },
  {
   "cell_type": "code",
   "execution_count": 18,
   "metadata": {
    "ExecuteTime": {
     "end_time": "2022-09-04T13:39:02.792806Z",
     "start_time": "2022-09-04T13:30:38.329006Z"
    }
   },
   "outputs": [
    {
     "data": {
      "application/vnd.jupyter.widget-view+json": {
       "model_id": "88844d59f063475e97c9a207eb429ab7",
       "version_major": 2,
       "version_minor": 0
      },
      "text/plain": [
       "  0%|          | 0/33236 [00:00<?, ?it/s]"
      ]
     },
     "metadata": {},
     "output_type": "display_data"
    },
    {
     "data": {
      "text/plain": [
       "array([0, 0, 0, ..., 0, 0, 0])"
      ]
     },
     "execution_count": 18,
     "metadata": {},
     "output_type": "execute_result"
    }
   ],
   "source": [
    "y = np.array([id_2_sex_map[s[4]] for s in tqdm(l_tts_train)])\n",
    "y"
   ]
  },
  {
   "cell_type": "code",
   "execution_count": 19,
   "metadata": {
    "ExecuteTime": {
     "end_time": "2022-09-04T13:39:02.802754Z",
     "start_time": "2022-09-04T13:39:02.793644Z"
    }
   },
   "outputs": [
    {
     "data": {
      "text/plain": [
       "(17629, 33236)"
      ]
     },
     "execution_count": 19,
     "metadata": {},
     "output_type": "execute_result"
    }
   ],
   "source": [
    "# поскольку классы сбалансированы не будем мучаться с весами семплов или ещё какими-нибудь приседаниями\n",
    "(y == 1).sum(), len(y)\n"
   ]
  },
  {
   "cell_type": "code",
   "execution_count": 20,
   "metadata": {
    "ExecuteTime": {
     "end_time": "2022-09-04T13:39:02.810186Z",
     "start_time": "2022-09-04T13:39:02.802754Z"
    }
   },
   "outputs": [
    {
     "data": {
      "text/plain": [
       "(15000, 2000, 4837)"
      ]
     },
     "execution_count": 20,
     "metadata": {},
     "output_type": "execute_result"
    }
   ],
   "source": [
    "idxs = np.arange(TRAIN_SET_SIZE + VALID_SET_SIZE)\n",
    "np.random.seed(42)\n",
    "np.random.shuffle(idxs)\n",
    "\n",
    "valid_idxs = idxs[:VALID_SET_SIZE]\n",
    "train_idxs = idxs[VALID_SET_SIZE:VALID_SET_SIZE + TRAIN_SET_SIZE]\n",
    "test_idxs = np.arange(len(l_tts_test))\n",
    "len(train_idxs), len(valid_idxs), len(test_idxs)"
   ]
  },
  {
   "cell_type": "markdown",
   "metadata": {},
   "source": [
    "## нейроночки"
   ]
  },
  {
   "cell_type": "markdown",
   "metadata": {
    "ExecuteTime": {
     "end_time": "2022-08-27T07:09:31.171863Z",
     "start_time": "2022-08-27T07:09:31.171863Z"
    }
   },
   "source": [
    "### обычная модель"
   ]
  },
  {
   "cell_type": "code",
   "execution_count": 21,
   "metadata": {
    "ExecuteTime": {
     "end_time": "2022-09-04T13:39:02.831411Z",
     "start_time": "2022-09-04T13:39:02.810186Z"
    }
   },
   "outputs": [],
   "source": [
    "EPOCHS = 50\n",
    "BATCH_SIZE = 256"
   ]
  },
  {
   "cell_type": "code",
   "execution_count": 22,
   "metadata": {
    "ExecuteTime": {
     "end_time": "2022-09-04T13:39:02.851344Z",
     "start_time": "2022-09-04T13:39:02.831411Z"
    },
    "id": "EVy54xvVgkxB"
   },
   "outputs": [],
   "source": [
    "def make_model():\n",
    "    model = torch.nn.Sequential(\n",
    "        torch.nn.Conv2d(1, 15, kernel_size=(3,3), stride=2, padding_mode='zeros'),\n",
    "        torch.nn.MaxPool2d(kernel_size=(3,3), stride=2),\n",
    "        torch.nn.LeakyReLU(),\n",
    "        torch.nn.Conv2d(15, 45, kernel_size=(5,5), stride=2, padding_mode='zeros'),\n",
    "        torch.nn.MaxPool2d(kernel_size=(5,5), stride=2),\n",
    "        torch.nn.LeakyReLU(),\n",
    "        torch.nn.Conv2d(45, 65, kernel_size=(5,5), stride=2, padding_mode='zeros'),\n",
    "        torch.nn.MaxPool2d(kernel_size=(5,5), stride=2),\n",
    "        torch.nn.LeakyReLU(),\n",
    "        torch.nn.Flatten(),\n",
    "        torch.nn.Linear(780, 1),\n",
    "        torch.nn.Sigmoid()\n",
    "    )\n",
    "    return model.cuda()"
   ]
  },
  {
   "cell_type": "code",
   "execution_count": 23,
   "metadata": {
    "ExecuteTime": {
     "end_time": "2022-09-04T13:39:02.873462Z",
     "start_time": "2022-09-04T13:39:02.851344Z"
    }
   },
   "outputs": [],
   "source": [
    "class Model(pytorch_lightning.LightningModule):\n",
    "    def __init__(self):\n",
    "        super().__init__()\n",
    "        self.model = make_model()\n",
    "        self.loss = torch.nn.BCELoss()\n",
    "        self.train_acc = torchmetrics.Accuracy()\n",
    "        self.valid_acc = torchmetrics.Accuracy()\n",
    "\n",
    "    def forward(self, x):\n",
    "        return self.model(x)\n",
    "\n",
    "    def training_step(self, batch, batch_idx):\n",
    "        x, y = batch\n",
    "        y_h = self.model(x)\n",
    "        l = self.loss(y_h, y[:, None])\n",
    "        self.train_acc(y_h, y[:, None].int())\n",
    "        self.log('train_acc', self.train_acc,prog_bar=True, on_step=True, on_epoch=False)\n",
    "        return l\n",
    "\n",
    "\n",
    "    def validation_step(self, batch, batch_idx):\n",
    "        x, y = batch\n",
    "        y_h = self.model(x)\n",
    "        l = self.loss(y_h, y[:, None])\n",
    "        self.valid_acc(y_h, y[:, None].int())\n",
    "        self.log('valid_acc', self.valid_acc,prog_bar=True, on_step=True, on_epoch=True)\n",
    "        self.log('valid_loss', l.item(), on_step=True, on_epoch=True)\n",
    "        return l\n",
    "\n",
    "    def configure_optimizers(self):\n",
    "        optimizer = torch.optim.Adam(self.model.parameters(),\n",
    "                                lr=1e-3,\n",
    "                                betas=(0.9, 0.999),\n",
    "                                eps=1e-5)\n",
    "        scheduler = torch.optim.lr_scheduler.StepLR(optimizer, step_size=15, gamma=0.1)\n",
    "        return [optimizer], [{\"scheduler\": scheduler, \"interval\": \"epoch\"}]"
   ]
  },
  {
   "cell_type": "markdown",
   "metadata": {},
   "source": [
    "#### датасет"
   ]
  },
  {
   "cell_type": "code",
   "execution_count": 24,
   "metadata": {
    "ExecuteTime": {
     "end_time": "2022-09-04T13:39:02.911238Z",
     "start_time": "2022-09-04T13:39:02.873462Z"
    }
   },
   "outputs": [],
   "source": [
    "class LibriDataset(Dataset):\n",
    "    def __init__(self, libri_dataset, idxs: list, path: str):\n",
    "        self.libri_dataset = libri_dataset\n",
    "        self.idxs = idxs\n",
    "        self.path = path\n",
    "\n",
    "    def __len__(self):\n",
    "        return len(self.idxs)\n",
    "\n",
    "    def __getitem__(self, index):\n",
    "        random_index = self.idxs[index]\n",
    "        if not (os.path.exists(\n",
    "                f\"{self.path}/{TOP_N_FREQ}f_{WINDOWS_COUNT}w_{random_index}_0.npy\"\n",
    "        ) or os.path.exists(\n",
    "                f\"{self.path}/{TOP_N_FREQ}f_{WINDOWS_COUNT}w_{random_index}_1.npy\"\n",
    "        )):\n",
    "            sound = self.libri_dataset[random_index]\n",
    "            spectr = make_spectr(sound[0],\n",
    "                                 sound[1],\n",
    "                                 top_n_freq=TOP_N_FREQ,\n",
    "                                 windows_count=WINDOWS_COUNT)\n",
    "            img = np.abs(spectr.transpose())\n",
    "            sex = id_2_sex_map[sound[4]]\n",
    "            file_name = f\"{self.path}/{TOP_N_FREQ}f_{WINDOWS_COUNT}w_{random_index}_{sex}.npy\"\n",
    "            with open(file_name, \"wb\") as f:\n",
    "                np.save(f, img)\n",
    "        else:\n",
    "            file_name = f\"{self.path}/{TOP_N_FREQ}f_{WINDOWS_COUNT}w_{random_index}_0.npy\"\n",
    "            if os.path.exists(file_name):\n",
    "                with open(file_name, \"rb\") as f:\n",
    "                    img = np.load(f, allow_pickle=True)\n",
    "                    sex = 0\n",
    "            else:\n",
    "                file_name = f\"{self.path}/{TOP_N_FREQ}f_{WINDOWS_COUNT}w_{random_index}_1.npy\"\n",
    "                if os.path.exists(file_name):\n",
    "                    with open(file_name, \"rb\") as f:\n",
    "                        img = np.load(f, allow_pickle=True)\n",
    "                        sex = 1\n",
    "\n",
    "        return torch.tensor(img).float().cuda(), torch.tensor(\n",
    "            sex).float().cuda()\n",
    "\n",
    "\n",
    "train_dataloader = DataLoader(LibriDataset(l_tts_train, train_idxs,\n",
    "                                            data_train),\n",
    "                              batch_size=BATCH_SIZE,\n",
    "                              num_workers=0,\n",
    "                              shuffle=True)\n",
    "valid_dataloader = DataLoader(LibriDataset(l_tts_train, valid_idxs,\n",
    "                                            data_train),\n",
    "                              num_workers=0,\n",
    "                              batch_size=BATCH_SIZE)"
   ]
  },
  {
   "cell_type": "markdown",
   "metadata": {},
   "source": [
    "#### цикл тренировки"
   ]
  },
  {
   "cell_type": "code",
   "execution_count": 25,
   "metadata": {
    "ExecuteTime": {
     "end_time": "2022-09-04T13:39:02.933338Z",
     "start_time": "2022-09-04T13:39:02.917301Z"
    }
   },
   "outputs": [],
   "source": [
    "early_stop_callback = EarlyStopping(monitor='valid_loss',\n",
    "                                    min_delta=0.001,\n",
    "                                    patience=30,\n",
    "                                    verbose=True,\n",
    "                                    mode='min')\n",
    "val_loss_checkpoint = ModelCheckpoint(monitor='valid_loss',\n",
    "                                      dirpath=work_dir +\n",
    "                                      './models/',\n",
    "                                      filename='{epoch:02d}-{valid_loss:.4f}',\n",
    "                                      save_top_k=1,\n",
    "                                      verbose=True,\n",
    "                                      mode='min')"
   ]
  },
  {
   "cell_type": "code",
   "execution_count": 26,
   "metadata": {
    "ExecuteTime": {
     "end_time": "2022-09-04T14:40:40.309658Z",
     "start_time": "2022-09-04T13:39:02.933338Z"
    },
    "scrolled": false
   },
   "outputs": [
    {
     "name": "stderr",
     "output_type": "stream",
     "text": [
      "GPU available: True, used: True\n",
      "TPU available: False, using: 0 TPU cores\n",
      "IPU available: False, using: 0 IPUs\n",
      "d:\\users\\eskander\\venv\\yet_another_env\\lib\\site-packages\\pytorch_lightning\\trainer\\trainer.py:736: LightningDeprecationWarning: `trainer.fit(train_dataloader)` is deprecated in v1.4 and will be removed in v1.6. Use `trainer.fit(train_dataloaders)` instead. HINT: added 's'\n",
      "  \"`trainer.fit(train_dataloader)` is deprecated in v1.4 and will be removed in v1.6.\"\n",
      "LOCAL_RANK: 0 - CUDA_VISIBLE_DEVICES: [0]\n",
      "\n",
      "  | Name      | Type       | Params\n",
      "-----------------------------------------\n",
      "0 | model     | Sequential | 91.0 K\n",
      "1 | loss      | BCELoss    | 0     \n",
      "2 | train_acc | Accuracy   | 0     \n",
      "3 | valid_acc | Accuracy   | 0     \n",
      "-----------------------------------------\n",
      "91.0 K    Trainable params\n",
      "0         Non-trainable params\n",
      "91.0 K    Total params\n",
      "0.364     Total estimated model params size (MB)\n"
     ]
    },
    {
     "data": {
      "application/vnd.jupyter.widget-view+json": {
       "model_id": "",
       "version_major": 2,
       "version_minor": 0
      },
      "text/plain": [
       "Validation sanity check: 0it [00:00, ?it/s]"
      ]
     },
     "metadata": {},
     "output_type": "display_data"
    },
    {
     "name": "stderr",
     "output_type": "stream",
     "text": [
      "d:\\users\\eskander\\venv\\yet_another_env\\lib\\site-packages\\pytorch_lightning\\trainer\\data_loading.py:133: UserWarning: The dataloader, val_dataloader 0, does not have many workers which may be a bottleneck. Consider increasing the value of the `num_workers` argument` (try 16 which is the number of cpus on this machine) in the `DataLoader` init to improve performance.\n",
      "  f\"The dataloader, {name}, does not have many workers which may be a bottleneck.\"\n",
      "d:\\users\\eskander\\venv\\yet_another_env\\lib\\site-packages\\pytorch_lightning\\trainer\\data_loading.py:133: UserWarning: The dataloader, train_dataloader, does not have many workers which may be a bottleneck. Consider increasing the value of the `num_workers` argument` (try 16 which is the number of cpus on this machine) in the `DataLoader` init to improve performance.\n",
      "  f\"The dataloader, {name}, does not have many workers which may be a bottleneck.\"\n"
     ]
    },
    {
     "data": {
      "application/vnd.jupyter.widget-view+json": {
       "model_id": "29b603506b664db2b00beada7eaf55ee",
       "version_major": 2,
       "version_minor": 0
      },
      "text/plain": [
       "Training: 0it [00:00, ?it/s]"
      ]
     },
     "metadata": {},
     "output_type": "display_data"
    },
    {
     "name": "stderr",
     "output_type": "stream",
     "text": [
      "d:\\users\\eskander\\venv\\yet_another_env\\lib\\site-packages\\pytorch_lightning\\trainer\\trainer.py:688: UserWarning: Detected KeyboardInterrupt, attempting graceful shutdown...\n",
      "  rank_zero_warn(\"Detected KeyboardInterrupt, attempting graceful shutdown...\")\n"
     ]
    },
    {
     "data": {
      "text/plain": [
       "'best checkpoint path '"
      ]
     },
     "execution_count": 26,
     "metadata": {},
     "output_type": "execute_result"
    }
   ],
   "source": [
    "model = Model()\n",
    "trainer = Trainer(max_epochs=EPOCHS, gpus=1 , callbacks=[early_stop_callback, val_loss_checkpoint],)# resume_from_checkpoint=work_dir+'./pytorch_models/*' )\n",
    "trainer.fit(model=model, train_dataloader=train_dataloader, val_dataloaders=valid_dataloader)\n",
    "f\"best checkpoint path {val_loss_checkpoint.best_model_path}\"    "
   ]
  },
  {
   "cell_type": "markdown",
   "metadata": {},
   "source": [
    "#### проверка на тесте"
   ]
  },
  {
   "cell_type": "code",
   "execution_count": 30,
   "metadata": {
    "ExecuteTime": {
     "end_time": "2022-09-04T14:41:06.904524Z",
     "start_time": "2022-09-04T14:41:06.878993Z"
    }
   },
   "outputs": [],
   "source": [
    "# model.load_from_checkpoint(val_loss_checkpoint.best_model_path)\n",
    "model = Model()\n",
    "model.load_state_dict(torch.load('.\\\\models\\\\epoch=07-valid_loss=0.4844.ckpt')['state_dict'])\n",
    "model = model.cuda()"
   ]
  },
  {
   "cell_type": "code",
   "execution_count": 31,
   "metadata": {
    "ExecuteTime": {
     "end_time": "2022-09-04T14:41:07.466793Z",
     "start_time": "2022-09-04T14:41:07.451758Z"
    }
   },
   "outputs": [],
   "source": [
    "\n",
    "test_idxs = np.arange(VALID_SET_SIZE + TRAIN_SET_SIZE, VALID_SET_SIZE + TRAIN_SET_SIZE + 3000)\n",
    "\n",
    "test_dataloader = DataLoader(LibriDataset(l_tts_train, test_idxs,\n",
    "                                            data_train),\n",
    "                              num_workers=0,\n",
    "                              batch_size=BATCH_SIZE)"
   ]
  },
  {
   "cell_type": "code",
   "execution_count": 32,
   "metadata": {
    "ExecuteTime": {
     "end_time": "2022-09-04T16:11:40.501891Z",
     "start_time": "2022-09-04T14:41:10.053496Z"
    },
    "scrolled": true
   },
   "outputs": [
    {
     "data": {
      "application/vnd.jupyter.widget-view+json": {
       "model_id": "cf2fc8ef3c084d15a02fd3a834067459",
       "version_major": 2,
       "version_minor": 0
      },
      "text/plain": [
       "  0%|          | 0/3000 [00:00<?, ?it/s]"
      ]
     },
     "metadata": {},
     "output_type": "display_data"
    }
   ],
   "source": [
    "with torch.no_grad():\n",
    "    y_tests = []\n",
    "    y_test_preds = []\n",
    "    for x_test, y_test in tqdm(LibriDataset(l_tts_train, test_idxs,\n",
    "                                                data_train)):\n",
    "        y_tests.append(y_test.item())\n",
    "        y_test_preds.append(model.forward(x_test.unsqueeze(0).cuda()).item())\n",
    "        \n"
   ]
  },
  {
   "cell_type": "markdown",
   "metadata": {},
   "source": [
    "#### резы на тесте"
   ]
  },
  {
   "cell_type": "code",
   "execution_count": 33,
   "metadata": {
    "ExecuteTime": {
     "end_time": "2022-09-04T16:11:40.516898Z",
     "start_time": "2022-09-04T16:11:40.502899Z"
    }
   },
   "outputs": [
    {
     "data": {
      "text/plain": [
       "0.7266666666666667"
      ]
     },
     "execution_count": 33,
     "metadata": {},
     "output_type": "execute_result"
    }
   ],
   "source": [
    "# средняя точность на тесте\n",
    "((np.array(y_test_preds) > 0.5).astype(int) == np.array(y_tests)).mean()"
   ]
  },
  {
   "cell_type": "markdown",
   "metadata": {},
   "source": [
    "не бог весть что, но всё же. Есть идея резать на окна не дуболомно, а с перекрытием. Этим и займёмся."
   ]
  },
  {
   "cell_type": "markdown",
   "metadata": {},
   "source": [
    "### модель с пересекающимися окнами для FFT"
   ]
  },
  {
   "cell_type": "code",
   "execution_count": 48,
   "metadata": {
    "ExecuteTime": {
     "end_time": "2022-09-04T16:29:00.479887Z",
     "start_time": "2022-09-04T16:29:00.464908Z"
    }
   },
   "outputs": [],
   "source": [
    "def make_overlapped_spectr(numpy_signal: np.array,\n",
    "                           signal_rate: int,\n",
    "                           windows_count=1000,\n",
    "                           overlapping_area=0.5,\n",
    "                           top_n_freq=4000) -> np.array:\n",
    "    spectr = np.zeros((windows_count, top_n_freq, 1), dtype=np.cdouble)\n",
    "    windows_size = int(len(numpy_signal[0]) / windows_count)\n",
    "    windows = np.zeros((windows_count, 1, len(numpy_signal[0])))\n",
    "    \n",
    "    for i in range(windows_count):\n",
    "        \n",
    "        left_border = i * windows_size\n",
    "        right_border = (i + 1) * windows_size\n",
    "        if i == 0:\n",
    "            right_border += int(windows_size * overlapping_area / 2)\n",
    "        elif i > 0:\n",
    "            left_border -= int(windows_size * overlapping_area / 2)\n",
    "            right_border += int(windows_size * overlapping_area / 2)\n",
    "\n",
    "        windows[i, 0, left_border:right_border] = numpy_signal[0, left_border:right_border]\n",
    "        \n",
    "    rfft_signals = np.fft.rfft(windows, axis=2)\n",
    "    \n",
    "    spectr = rfft_signals[:, :, :top_n_freq]\n",
    "    return spectr.transpose(0, 2, 1)"
   ]
  },
  {
   "cell_type": "code",
   "execution_count": 49,
   "metadata": {
    "ExecuteTime": {
     "end_time": "2022-09-04T16:29:15.801995Z",
     "start_time": "2022-09-04T16:29:02.942962Z"
    }
   },
   "outputs": [
    {
     "data": {
      "text/plain": [
       "(300, 20000, 1)"
      ]
     },
     "execution_count": 49,
     "metadata": {},
     "output_type": "execute_result"
    }
   ],
   "source": [
    "spectr = make_overlapped_spectr(l_tts_train[1][0].numpy(), l_tts_train[1][1], windows_count=300, top_n_freq=20000)\n",
    "spectr.shape"
   ]
  },
  {
   "cell_type": "code",
   "execution_count": 50,
   "metadata": {
    "ExecuteTime": {
     "end_time": "2022-09-04T16:29:18.411736Z",
     "start_time": "2022-09-04T16:29:15.802997Z"
    }
   },
   "outputs": [
    {
     "data": {
      "text/plain": [
       "<matplotlib.collections.QuadMesh at 0x2ca0270d608>"
      ]
     },
     "execution_count": 50,
     "metadata": {},
     "output_type": "execute_result"
    },
    {
     "data": {
      "image/png": "[encoded data removed]",
      "text/plain": [
       "<Figure size 432x288 with 1 Axes>"
      ]
     },
     "metadata": {
      "needs_background": "light"
     },
     "output_type": "display_data"
    }
   ],
   "source": [
    "ld.specshow(np.abs(spectr.reshape(spectr.shape[:2])).transpose(), y_axis='fft', x_axis='frames', sr=l_tts_train[1][1])"
   ]
  },
  {
   "cell_type": "markdown",
   "metadata": {
    "ExecuteTime": {
     "end_time": "2022-08-29T13:31:15.948998Z",
     "start_time": "2022-08-29T13:31:15.948998Z"
    }
   },
   "source": [
    "#### датасет"
   ]
  },
  {
   "cell_type": "code",
   "execution_count": 55,
   "metadata": {
    "ExecuteTime": {
     "end_time": "2022-09-04T16:29:50.663386Z",
     "start_time": "2022-09-04T16:29:50.641689Z"
    }
   },
   "outputs": [],
   "source": [
    "class OverlappedLibriDataset(LibriDataset):\n",
    "    def __init__(self, libri_dataset, idxs: list, path: str):\n",
    "        super().__init__(libri_dataset, idxs, path)\n",
    "\n",
    "    def __getitem__(self, index):\n",
    "        random_index = self.idxs[index]\n",
    "        if not (os.path.exists(\n",
    "                f\"{self.path}/{TOP_N_FREQ}f_{WINDOWS_COUNT}w_{random_index}_0.npy\"\n",
    "        ) or os.path.exists(\n",
    "                f\"{self.path}/{TOP_N_FREQ}f_{WINDOWS_COUNT}w_{random_index}_1.npy\"\n",
    "        )):\n",
    "            sound = self.libri_dataset[random_index]\n",
    "            spectr = make_overlapped_spectr(sound[0],\n",
    "                                            sound[1],\n",
    "                                            top_n_freq=TOP_N_FREQ,\n",
    "                                            windows_count=WINDOWS_COUNT)\n",
    "            img = np.abs(spectr.transpose())\n",
    "            sex = id_2_sex_map[sound[4]]\n",
    "            file_name = f\"{self.path}/{TOP_N_FREQ}f_{WINDOWS_COUNT}w_{random_index}_{sex}.npy\"\n",
    "            with open(file_name, \"wb\") as f:\n",
    "                np.save(f, img)\n",
    "        else:\n",
    "            file_name = f\"{self.path}/{TOP_N_FREQ}f_{WINDOWS_COUNT}w_{random_index}_0.npy\"\n",
    "            if os.path.exists(file_name):\n",
    "                with open(file_name, \"rb\") as f:\n",
    "                    img = np.load(f, allow_pickle=True)\n",
    "                    sex = 0\n",
    "            else:\n",
    "                file_name = f\"{self.path}/{TOP_N_FREQ}f_{WINDOWS_COUNT}w_{random_index}_1.npy\"\n",
    "                if os.path.exists(file_name):\n",
    "                    with open(file_name, \"rb\") as f:\n",
    "                        img = np.load(f, allow_pickle=True)\n",
    "                        sex = 1\n",
    "\n",
    "        return torch.tensor(img).float().cuda(), torch.tensor(\n",
    "            sex).float().cuda()\n"
   ]
  },
  {
   "cell_type": "code",
   "execution_count": 56,
   "metadata": {
    "ExecuteTime": {
     "end_time": "2022-09-04T16:29:51.037714Z",
     "start_time": "2022-09-04T16:29:51.000616Z"
    },
    "scrolled": true
   },
   "outputs": [
    {
     "name": "stdout",
     "output_type": "stream",
     "text": [
      "Y:/Documents/projects/libri_tts/freq_imgs\\overlapped\\train\n"
     ]
    }
   ],
   "source": [
    "BATCH_SIZE = 256\n",
    "\n",
    "data_train_overlapped_path = os.path.join(data_path, 'overlapped', 'train')\n",
    "os.makedirs(data_train_overlapped_path, exist_ok=True)\n",
    "print(data_train_overlapped_path)\n",
    "overlapped_train_dataloader = DataLoader(OverlappedLibriDataset(\n",
    "    l_tts_train, train_idxs, data_train_overlapped_path),\n",
    "                                         batch_size=BATCH_SIZE,\n",
    "                                         num_workers=0,\n",
    "                                         shuffle=True)\n",
    "overlapped_valid_dataloader = DataLoader(OverlappedLibriDataset(\n",
    "    l_tts_train, valid_idxs, data_train_overlapped_path),\n",
    "                                         num_workers=0,\n",
    "                                         batch_size=BATCH_SIZE)"
   ]
  },
  {
   "cell_type": "markdown",
   "metadata": {},
   "source": [
    "#### цикл "
   ]
  },
  {
   "cell_type": "code",
   "execution_count": 58,
   "metadata": {
    "ExecuteTime": {
     "end_time": "2022-09-05T07:57:39.875890Z",
     "start_time": "2022-09-04T16:32:55.317461Z"
    },
    "scrolled": false
   },
   "outputs": [
    {
     "name": "stderr",
     "output_type": "stream",
     "text": [
      "GPU available: True, used: True\n",
      "TPU available: False, using: 0 TPU cores\n",
      "IPU available: False, using: 0 IPUs\n",
      "LOCAL_RANK: 0 - CUDA_VISIBLE_DEVICES: [0]\n",
      "\n",
      "  | Name      | Type       | Params\n",
      "-----------------------------------------\n",
      "0 | model     | Sequential | 91.0 K\n",
      "1 | loss      | BCELoss    | 0     \n",
      "2 | train_acc | Accuracy   | 0     \n",
      "3 | valid_acc | Accuracy   | 0     \n",
      "-----------------------------------------\n",
      "91.0 K    Trainable params\n",
      "0         Non-trainable params\n",
      "91.0 K    Total params\n",
      "0.364     Total estimated model params size (MB)\n"
     ]
    },
    {
     "data": {
      "application/vnd.jupyter.widget-view+json": {
       "model_id": "",
       "version_major": 2,
       "version_minor": 0
      },
      "text/plain": [
       "Validation sanity check: 0it [00:00, ?it/s]"
      ]
     },
     "metadata": {},
     "output_type": "display_data"
    },
    {
     "data": {
      "application/vnd.jupyter.widget-view+json": {
       "model_id": "403a240dcf7d4c149c2980f3aaa80c13",
       "version_major": 2,
       "version_minor": 0
      },
      "text/plain": [
       "Training: 0it [00:00, ?it/s]"
      ]
     },
     "metadata": {},
     "output_type": "display_data"
    },
    {
     "data": {
      "application/vnd.jupyter.widget-view+json": {
       "model_id": "",
       "version_major": 2,
       "version_minor": 0
      },
      "text/plain": [
       "Validating: 0it [00:00, ?it/s]"
      ]
     },
     "metadata": {},
     "output_type": "display_data"
    },
    {
     "name": "stderr",
     "output_type": "stream",
     "text": [
      "Metric valid_loss improved. New best score: 0.605\n",
      "Epoch 0, global step 58: valid_loss reached 0.60458 (best 0.60458), saving model to \"Z:\\Documents\\projects\\science\\overlapped_models\\epoch=00-valid_loss=0.6046.ckpt\" as top 1\n"
     ]
    },
    {
     "data": {
      "application/vnd.jupyter.widget-view+json": {
       "model_id": "",
       "version_major": 2,
       "version_minor": 0
      },
      "text/plain": [
       "Validating: 0it [00:00, ?it/s]"
      ]
     },
     "metadata": {},
     "output_type": "display_data"
    },
    {
     "name": "stderr",
     "output_type": "stream",
     "text": [
      "Metric valid_loss improved by 0.049 >= min_delta = 0.001. New best score: 0.556\n",
      "Epoch 1, global step 117: valid_loss reached 0.55555 (best 0.55555), saving model to \"Z:\\Documents\\projects\\science\\overlapped_models\\epoch=01-valid_loss=0.5556.ckpt\" as top 1\n"
     ]
    },
    {
     "data": {
      "application/vnd.jupyter.widget-view+json": {
       "model_id": "",
       "version_major": 2,
       "version_minor": 0
      },
      "text/plain": [
       "Validating: 0it [00:00, ?it/s]"
      ]
     },
     "metadata": {},
     "output_type": "display_data"
    },
    {
     "name": "stderr",
     "output_type": "stream",
     "text": [
      "Metric valid_loss improved by 0.030 >= min_delta = 0.001. New best score: 0.526\n",
      "Epoch 2, global step 176: valid_loss reached 0.52571 (best 0.52571), saving model to \"Z:\\Documents\\projects\\science\\overlapped_models\\epoch=02-valid_loss=0.5257.ckpt\" as top 1\n"
     ]
    },
    {
     "data": {
      "application/vnd.jupyter.widget-view+json": {
       "model_id": "",
       "version_major": 2,
       "version_minor": 0
      },
      "text/plain": [
       "Validating: 0it [00:00, ?it/s]"
      ]
     },
     "metadata": {},
     "output_type": "display_data"
    },
    {
     "name": "stderr",
     "output_type": "stream",
     "text": [
      "Metric valid_loss improved by 0.004 >= min_delta = 0.001. New best score: 0.521\n",
      "Epoch 3, global step 235: valid_loss reached 0.52144 (best 0.52144), saving model to \"Z:\\Documents\\projects\\science\\overlapped_models\\epoch=03-valid_loss=0.5214.ckpt\" as top 1\n"
     ]
    },
    {
     "data": {
      "application/vnd.jupyter.widget-view+json": {
       "model_id": "",
       "version_major": 2,
       "version_minor": 0
      },
      "text/plain": [
       "Validating: 0it [00:00, ?it/s]"
      ]
     },
     "metadata": {},
     "output_type": "display_data"
    },
    {
     "name": "stderr",
     "output_type": "stream",
     "text": [
      "Epoch 4, global step 294: valid_loss was not in top 1\n"
     ]
    },
    {
     "data": {
      "application/vnd.jupyter.widget-view+json": {
       "model_id": "",
       "version_major": 2,
       "version_minor": 0
      },
      "text/plain": [
       "Validating: 0it [00:00, ?it/s]"
      ]
     },
     "metadata": {},
     "output_type": "display_data"
    },
    {
     "name": "stderr",
     "output_type": "stream",
     "text": [
      "Metric valid_loss improved by 0.026 >= min_delta = 0.001. New best score: 0.496\n",
      "Epoch 5, global step 353: valid_loss reached 0.49589 (best 0.49589), saving model to \"Z:\\Documents\\projects\\science\\overlapped_models\\epoch=05-valid_loss=0.4959.ckpt\" as top 1\n"
     ]
    },
    {
     "data": {
      "application/vnd.jupyter.widget-view+json": {
       "model_id": "",
       "version_major": 2,
       "version_minor": 0
      },
      "text/plain": [
       "Validating: 0it [00:00, ?it/s]"
      ]
     },
     "metadata": {},
     "output_type": "display_data"
    },
    {
     "name": "stderr",
     "output_type": "stream",
     "text": [
      "Epoch 6, global step 412: valid_loss was not in top 1\n"
     ]
    },
    {
     "data": {
      "application/vnd.jupyter.widget-view+json": {
       "model_id": "",
       "version_major": 2,
       "version_minor": 0
      },
      "text/plain": [
       "Validating: 0it [00:00, ?it/s]"
      ]
     },
     "metadata": {},
     "output_type": "display_data"
    },
    {
     "name": "stderr",
     "output_type": "stream",
     "text": [
      "Epoch 7, global step 471: valid_loss was not in top 1\n"
     ]
    },
    {
     "data": {
      "application/vnd.jupyter.widget-view+json": {
       "model_id": "",
       "version_major": 2,
       "version_minor": 0
      },
      "text/plain": [
       "Validating: 0it [00:00, ?it/s]"
      ]
     },
     "metadata": {},
     "output_type": "display_data"
    },
    {
     "name": "stderr",
     "output_type": "stream",
     "text": [
      "Epoch 8, global step 530: valid_loss was not in top 1\n"
     ]
    },
    {
     "data": {
      "application/vnd.jupyter.widget-view+json": {
       "model_id": "",
       "version_major": 2,
       "version_minor": 0
      },
      "text/plain": [
       "Validating: 0it [00:00, ?it/s]"
      ]
     },
     "metadata": {},
     "output_type": "display_data"
    },
    {
     "name": "stderr",
     "output_type": "stream",
     "text": [
      "Epoch 9, global step 589: valid_loss was not in top 1\n"
     ]
    },
    {
     "data": {
      "application/vnd.jupyter.widget-view+json": {
       "model_id": "",
       "version_major": 2,
       "version_minor": 0
      },
      "text/plain": [
       "Validating: 0it [00:00, ?it/s]"
      ]
     },
     "metadata": {},
     "output_type": "display_data"
    },
    {
     "name": "stderr",
     "output_type": "stream",
     "text": [
      "Epoch 10, global step 648: valid_loss was not in top 1\n"
     ]
    },
    {
     "data": {
      "application/vnd.jupyter.widget-view+json": {
       "model_id": "",
       "version_major": 2,
       "version_minor": 0
      },
      "text/plain": [
       "Validating: 0it [00:00, ?it/s]"
      ]
     },
     "metadata": {},
     "output_type": "display_data"
    },
    {
     "name": "stderr",
     "output_type": "stream",
     "text": [
      "Metric valid_loss improved by 0.003 >= min_delta = 0.001. New best score: 0.492\n",
      "Epoch 11, global step 707: valid_loss reached 0.49242 (best 0.49242), saving model to \"Z:\\Documents\\projects\\science\\overlapped_models\\epoch=11-valid_loss=0.4924.ckpt\" as top 1\n"
     ]
    },
    {
     "data": {
      "application/vnd.jupyter.widget-view+json": {
       "model_id": "",
       "version_major": 2,
       "version_minor": 0
      },
      "text/plain": [
       "Validating: 0it [00:00, ?it/s]"
      ]
     },
     "metadata": {},
     "output_type": "display_data"
    },
    {
     "name": "stderr",
     "output_type": "stream",
     "text": [
      "Epoch 12, global step 766: valid_loss was not in top 1\n"
     ]
    },
    {
     "data": {
      "application/vnd.jupyter.widget-view+json": {
       "model_id": "",
       "version_major": 2,
       "version_minor": 0
      },
      "text/plain": [
       "Validating: 0it [00:00, ?it/s]"
      ]
     },
     "metadata": {},
     "output_type": "display_data"
    },
    {
     "name": "stderr",
     "output_type": "stream",
     "text": [
      "Epoch 13, global step 825: valid_loss was not in top 1\n"
     ]
    },
    {
     "data": {
      "application/vnd.jupyter.widget-view+json": {
       "model_id": "",
       "version_major": 2,
       "version_minor": 0
      },
      "text/plain": [
       "Validating: 0it [00:00, ?it/s]"
      ]
     },
     "metadata": {},
     "output_type": "display_data"
    },
    {
     "name": "stderr",
     "output_type": "stream",
     "text": [
      "Epoch 14, global step 884: valid_loss was not in top 1\n"
     ]
    },
    {
     "data": {
      "application/vnd.jupyter.widget-view+json": {
       "model_id": "",
       "version_major": 2,
       "version_minor": 0
      },
      "text/plain": [
       "Validating: 0it [00:00, ?it/s]"
      ]
     },
     "metadata": {},
     "output_type": "display_data"
    },
    {
     "name": "stderr",
     "output_type": "stream",
     "text": [
      "Epoch 15, global step 943: valid_loss was not in top 1\n"
     ]
    },
    {
     "data": {
      "application/vnd.jupyter.widget-view+json": {
       "model_id": "",
       "version_major": 2,
       "version_minor": 0
      },
      "text/plain": [
       "Validating: 0it [00:00, ?it/s]"
      ]
     },
     "metadata": {},
     "output_type": "display_data"
    },
    {
     "name": "stderr",
     "output_type": "stream",
     "text": [
      "Epoch 16, global step 1002: valid_loss was not in top 1\n"
     ]
    },
    {
     "data": {
      "application/vnd.jupyter.widget-view+json": {
       "model_id": "",
       "version_major": 2,
       "version_minor": 0
      },
      "text/plain": [
       "Validating: 0it [00:00, ?it/s]"
      ]
     },
     "metadata": {},
     "output_type": "display_data"
    },
    {
     "name": "stderr",
     "output_type": "stream",
     "text": [
      "Epoch 17, global step 1061: valid_loss was not in top 1\n"
     ]
    },
    {
     "data": {
      "application/vnd.jupyter.widget-view+json": {
       "model_id": "",
       "version_major": 2,
       "version_minor": 0
      },
      "text/plain": [
       "Validating: 0it [00:00, ?it/s]"
      ]
     },
     "metadata": {},
     "output_type": "display_data"
    },
    {
     "name": "stderr",
     "output_type": "stream",
     "text": [
      "Epoch 18, global step 1120: valid_loss was not in top 1\n"
     ]
    },
    {
     "data": {
      "application/vnd.jupyter.widget-view+json": {
       "model_id": "",
       "version_major": 2,
       "version_minor": 0
      },
      "text/plain": [
       "Validating: 0it [00:00, ?it/s]"
      ]
     },
     "metadata": {},
     "output_type": "display_data"
    },
    {
     "name": "stderr",
     "output_type": "stream",
     "text": [
      "Epoch 19, global step 1179: valid_loss was not in top 1\n"
     ]
    },
    {
     "data": {
      "application/vnd.jupyter.widget-view+json": {
       "model_id": "",
       "version_major": 2,
       "version_minor": 0
      },
      "text/plain": [
       "Validating: 0it [00:00, ?it/s]"
      ]
     },
     "metadata": {},
     "output_type": "display_data"
    },
    {
     "name": "stderr",
     "output_type": "stream",
     "text": [
      "Epoch 20, global step 1238: valid_loss was not in top 1\n"
     ]
    },
    {
     "data": {
      "application/vnd.jupyter.widget-view+json": {
       "model_id": "",
       "version_major": 2,
       "version_minor": 0
      },
      "text/plain": [
       "Validating: 0it [00:00, ?it/s]"
      ]
     },
     "metadata": {},
     "output_type": "display_data"
    },
    {
     "name": "stderr",
     "output_type": "stream",
     "text": [
      "Epoch 21, global step 1297: valid_loss was not in top 1\n"
     ]
    },
    {
     "data": {
      "application/vnd.jupyter.widget-view+json": {
       "model_id": "",
       "version_major": 2,
       "version_minor": 0
      },
      "text/plain": [
       "Validating: 0it [00:00, ?it/s]"
      ]
     },
     "metadata": {},
     "output_type": "display_data"
    },
    {
     "name": "stderr",
     "output_type": "stream",
     "text": [
      "Epoch 22, global step 1356: valid_loss was not in top 1\n"
     ]
    },
    {
     "data": {
      "application/vnd.jupyter.widget-view+json": {
       "model_id": "",
       "version_major": 2,
       "version_minor": 0
      },
      "text/plain": [
       "Validating: 0it [00:00, ?it/s]"
      ]
     },
     "metadata": {},
     "output_type": "display_data"
    },
    {
     "name": "stderr",
     "output_type": "stream",
     "text": [
      "Epoch 23, global step 1415: valid_loss was not in top 1\n"
     ]
    },
    {
     "data": {
      "application/vnd.jupyter.widget-view+json": {
       "model_id": "",
       "version_major": 2,
       "version_minor": 0
      },
      "text/plain": [
       "Validating: 0it [00:00, ?it/s]"
      ]
     },
     "metadata": {},
     "output_type": "display_data"
    },
    {
     "name": "stderr",
     "output_type": "stream",
     "text": [
      "Epoch 24, global step 1474: valid_loss was not in top 1\n"
     ]
    },
    {
     "data": {
      "application/vnd.jupyter.widget-view+json": {
       "model_id": "",
       "version_major": 2,
       "version_minor": 0
      },
      "text/plain": [
       "Validating: 0it [00:00, ?it/s]"
      ]
     },
     "metadata": {},
     "output_type": "display_data"
    },
    {
     "name": "stderr",
     "output_type": "stream",
     "text": [
      "Epoch 25, global step 1533: valid_loss was not in top 1\n"
     ]
    },
    {
     "data": {
      "application/vnd.jupyter.widget-view+json": {
       "model_id": "",
       "version_major": 2,
       "version_minor": 0
      },
      "text/plain": [
       "Validating: 0it [00:00, ?it/s]"
      ]
     },
     "metadata": {},
     "output_type": "display_data"
    },
    {
     "name": "stderr",
     "output_type": "stream",
     "text": [
      "Epoch 26, global step 1592: valid_loss was not in top 1\n"
     ]
    },
    {
     "data": {
      "application/vnd.jupyter.widget-view+json": {
       "model_id": "",
       "version_major": 2,
       "version_minor": 0
      },
      "text/plain": [
       "Validating: 0it [00:00, ?it/s]"
      ]
     },
     "metadata": {},
     "output_type": "display_data"
    },
    {
     "name": "stderr",
     "output_type": "stream",
     "text": [
      "Epoch 27, global step 1651: valid_loss was not in top 1\n"
     ]
    },
    {
     "data": {
      "application/vnd.jupyter.widget-view+json": {
       "model_id": "",
       "version_major": 2,
       "version_minor": 0
      },
      "text/plain": [
       "Validating: 0it [00:00, ?it/s]"
      ]
     },
     "metadata": {},
     "output_type": "display_data"
    },
    {
     "name": "stderr",
     "output_type": "stream",
     "text": [
      "Epoch 28, global step 1710: valid_loss was not in top 1\n"
     ]
    },
    {
     "data": {
      "application/vnd.jupyter.widget-view+json": {
       "model_id": "",
       "version_major": 2,
       "version_minor": 0
      },
      "text/plain": [
       "Validating: 0it [00:00, ?it/s]"
      ]
     },
     "metadata": {},
     "output_type": "display_data"
    },
    {
     "name": "stderr",
     "output_type": "stream",
     "text": [
      "Epoch 29, global step 1769: valid_loss was not in top 1\n"
     ]
    },
    {
     "data": {
      "application/vnd.jupyter.widget-view+json": {
       "model_id": "",
       "version_major": 2,
       "version_minor": 0
      },
      "text/plain": [
       "Validating: 0it [00:00, ?it/s]"
      ]
     },
     "metadata": {},
     "output_type": "display_data"
    },
    {
     "name": "stderr",
     "output_type": "stream",
     "text": [
      "Epoch 30, global step 1828: valid_loss was not in top 1\n"
     ]
    },
    {
     "data": {
      "application/vnd.jupyter.widget-view+json": {
       "model_id": "",
       "version_major": 2,
       "version_minor": 0
      },
      "text/plain": [
       "Validating: 0it [00:00, ?it/s]"
      ]
     },
     "metadata": {},
     "output_type": "display_data"
    },
    {
     "name": "stderr",
     "output_type": "stream",
     "text": [
      "Epoch 31, global step 1887: valid_loss was not in top 1\n"
     ]
    },
    {
     "data": {
      "application/vnd.jupyter.widget-view+json": {
       "model_id": "",
       "version_major": 2,
       "version_minor": 0
      },
      "text/plain": [
       "Validating: 0it [00:00, ?it/s]"
      ]
     },
     "metadata": {},
     "output_type": "display_data"
    },
    {
     "name": "stderr",
     "output_type": "stream",
     "text": [
      "Epoch 32, global step 1946: valid_loss was not in top 1\n"
     ]
    },
    {
     "data": {
      "application/vnd.jupyter.widget-view+json": {
       "model_id": "",
       "version_major": 2,
       "version_minor": 0
      },
      "text/plain": [
       "Validating: 0it [00:00, ?it/s]"
      ]
     },
     "metadata": {},
     "output_type": "display_data"
    },
    {
     "name": "stderr",
     "output_type": "stream",
     "text": [
      "Epoch 33, global step 2005: valid_loss was not in top 1\n"
     ]
    },
    {
     "data": {
      "application/vnd.jupyter.widget-view+json": {
       "model_id": "",
       "version_major": 2,
       "version_minor": 0
      },
      "text/plain": [
       "Validating: 0it [00:00, ?it/s]"
      ]
     },
     "metadata": {},
     "output_type": "display_data"
    },
    {
     "name": "stderr",
     "output_type": "stream",
     "text": [
      "Epoch 34, global step 2064: valid_loss was not in top 1\n"
     ]
    },
    {
     "data": {
      "application/vnd.jupyter.widget-view+json": {
       "model_id": "",
       "version_major": 2,
       "version_minor": 0
      },
      "text/plain": [
       "Validating: 0it [00:00, ?it/s]"
      ]
     },
     "metadata": {},
     "output_type": "display_data"
    },
    {
     "name": "stderr",
     "output_type": "stream",
     "text": [
      "Epoch 35, global step 2123: valid_loss was not in top 1\n"
     ]
    },
    {
     "data": {
      "application/vnd.jupyter.widget-view+json": {
       "model_id": "",
       "version_major": 2,
       "version_minor": 0
      },
      "text/plain": [
       "Validating: 0it [00:00, ?it/s]"
      ]
     },
     "metadata": {},
     "output_type": "display_data"
    },
    {
     "name": "stderr",
     "output_type": "stream",
     "text": [
      "Epoch 36, global step 2182: valid_loss was not in top 1\n"
     ]
    },
    {
     "data": {
      "application/vnd.jupyter.widget-view+json": {
       "model_id": "",
       "version_major": 2,
       "version_minor": 0
      },
      "text/plain": [
       "Validating: 0it [00:00, ?it/s]"
      ]
     },
     "metadata": {},
     "output_type": "display_data"
    },
    {
     "name": "stderr",
     "output_type": "stream",
     "text": [
      "Epoch 37, global step 2241: valid_loss was not in top 1\n"
     ]
    },
    {
     "data": {
      "application/vnd.jupyter.widget-view+json": {
       "model_id": "",
       "version_major": 2,
       "version_minor": 0
      },
      "text/plain": [
       "Validating: 0it [00:00, ?it/s]"
      ]
     },
     "metadata": {},
     "output_type": "display_data"
    },
    {
     "name": "stderr",
     "output_type": "stream",
     "text": [
      "Epoch 38, global step 2300: valid_loss was not in top 1\n"
     ]
    },
    {
     "data": {
      "application/vnd.jupyter.widget-view+json": {
       "model_id": "",
       "version_major": 2,
       "version_minor": 0
      },
      "text/plain": [
       "Validating: 0it [00:00, ?it/s]"
      ]
     },
     "metadata": {},
     "output_type": "display_data"
    },
    {
     "name": "stderr",
     "output_type": "stream",
     "text": [
      "Epoch 39, global step 2359: valid_loss was not in top 1\n"
     ]
    },
    {
     "data": {
      "application/vnd.jupyter.widget-view+json": {
       "model_id": "",
       "version_major": 2,
       "version_minor": 0
      },
      "text/plain": [
       "Validating: 0it [00:00, ?it/s]"
      ]
     },
     "metadata": {},
     "output_type": "display_data"
    },
    {
     "name": "stderr",
     "output_type": "stream",
     "text": [
      "Epoch 40, global step 2418: valid_loss was not in top 1\n"
     ]
    },
    {
     "data": {
      "application/vnd.jupyter.widget-view+json": {
       "model_id": "",
       "version_major": 2,
       "version_minor": 0
      },
      "text/plain": [
       "Validating: 0it [00:00, ?it/s]"
      ]
     },
     "metadata": {},
     "output_type": "display_data"
    },
    {
     "name": "stderr",
     "output_type": "stream",
     "text": [
      "Monitored metric valid_loss did not improve in the last 30 records. Best score: 0.492. Signaling Trainer to stop.\n",
      "Epoch 41, global step 2477: valid_loss was not in top 1\n"
     ]
    },
    {
     "data": {
      "text/plain": [
       "'best checkpoint path Z:\\\\Documents\\\\projects\\\\science\\\\overlapped_models\\\\epoch=11-valid_loss=0.4924.ckpt'"
      ]
     },
     "execution_count": 58,
     "metadata": {},
     "output_type": "execute_result"
    }
   ],
   "source": [
    "overlapped_early_stop_callback = EarlyStopping(monitor='valid_loss',\n",
    "                                    min_delta=0.001,\n",
    "                                    patience=30,\n",
    "                                    verbose=True,\n",
    "                                    mode='min')\n",
    "overlapped_val_loss_checkpoint = ModelCheckpoint(\n",
    "    monitor='valid_loss',\n",
    "    dirpath=work_dir + './overlapped_models/',\n",
    "    filename='{epoch:02d}-{valid_loss:.4f}',\n",
    "    save_top_k=1,\n",
    "    verbose=True,\n",
    "    mode='min')\n",
    "\n",
    "overlapped_model = Model()\n",
    "\n",
    "trainer = Trainer(\n",
    "    max_epochs=EPOCHS,\n",
    "    gpus=1,\n",
    "    callbacks=[overlapped_early_stop_callback, overlapped_val_loss_checkpoint],\n",
    ")  # resume_from_checkpoint=work_dir+'./pytorch_models/*' )\n",
    "trainer.fit(model=overlapped_model,\n",
    "            train_dataloader=overlapped_train_dataloader,\n",
    "            val_dataloaders=overlapped_valid_dataloader)\n",
    "f\"best checkpoint path {overlapped_val_loss_checkpoint.best_model_path}\""
   ]
  },
  {
   "cell_type": "code",
   "execution_count": 59,
   "metadata": {
    "ExecuteTime": {
     "end_time": "2022-09-05T07:57:39.891890Z",
     "start_time": "2022-09-05T07:57:39.877881Z"
    }
   },
   "outputs": [
    {
     "data": {
      "text/plain": [
       "'Z:\\\\Documents\\\\projects\\\\science\\\\overlapped_models\\\\epoch=11-valid_loss=0.4924.ckpt'"
      ]
     },
     "execution_count": 59,
     "metadata": {},
     "output_type": "execute_result"
    }
   ],
   "source": [
    "overlapped_val_loss_checkpoint.best_model_path"
   ]
  },
  {
   "cell_type": "code",
   "execution_count": 60,
   "metadata": {
    "ExecuteTime": {
     "end_time": "2022-09-05T07:57:39.939919Z",
     "start_time": "2022-09-05T07:57:39.892880Z"
    }
   },
   "outputs": [],
   "source": [
    "overlapped_model = Model()\n",
    "overlapped_model.load_state_dict(torch.load(overlapped_val_loss_checkpoint.best_model_path)['state_dict'])\n",
    "overlapped_model = overlapped_model.cuda()"
   ]
  },
  {
   "cell_type": "markdown",
   "metadata": {
    "ExecuteTime": {
     "end_time": "2022-08-29T13:31:15.948998Z",
     "start_time": "2022-08-29T13:31:15.948998Z"
    }
   },
   "source": [
    "#### резы на тесте"
   ]
  },
  {
   "cell_type": "code",
   "execution_count": 61,
   "metadata": {
    "ExecuteTime": {
     "end_time": "2022-09-05T09:30:31.721580Z",
     "start_time": "2022-09-05T07:57:39.940883Z"
    }
   },
   "outputs": [
    {
     "data": {
      "application/vnd.jupyter.widget-view+json": {
       "model_id": "153742372d61413b9ef3e736af7f1b70",
       "version_major": 2,
       "version_minor": 0
      },
      "text/plain": [
       "  0%|          | 0/3000 [00:00<?, ?it/s]"
      ]
     },
     "metadata": {},
     "output_type": "display_data"
    },
    {
     "data": {
      "text/plain": [
       "0.7326666666666667"
      ]
     },
     "execution_count": 61,
     "metadata": {},
     "output_type": "execute_result"
    }
   ],
   "source": [
    "with torch.no_grad():\n",
    "    y_tests = []\n",
    "    y_test_preds = []\n",
    "    for x_test, y_test in tqdm(OverlappedLibriDataset(l_tts_train, test_idxs,\n",
    "                                                data_train_overlapped_path)):\n",
    "        y_tests.append(y_test.item())\n",
    "        y_test_preds.append(overlapped_model.forward(x_test.unsqueeze(0)).item())\n",
    "        \n",
    "# средняя точность на тесте\n",
    "((np.array(y_test_preds) > 0.5).astype(int) == np.array(y_tests)).mean()"
   ]
  },
  {
   "cell_type": "code",
   "execution_count": 62,
   "metadata": {
    "ExecuteTime": {
     "end_time": "2022-09-05T09:30:31.737582Z",
     "start_time": "2022-09-05T09:30:31.722582Z"
    }
   },
   "outputs": [
    {
     "data": {
      "text/plain": [
       "array([1, 0, 0, ..., 0, 0, 0])"
      ]
     },
     "execution_count": 62,
     "metadata": {},
     "output_type": "execute_result"
    }
   ],
   "source": [
    "(np.array(y_test_preds) > 0.5).astype(int)"
   ]
  },
  {
   "cell_type": "code",
   "execution_count": 63,
   "metadata": {
    "ExecuteTime": {
     "end_time": "2022-09-05T09:30:31.753582Z",
     "start_time": "2022-09-05T09:30:31.738582Z"
    }
   },
   "outputs": [
    {
     "data": {
      "text/plain": [
       "0.609"
      ]
     },
     "execution_count": 63,
     "metadata": {},
     "output_type": "execute_result"
    }
   ],
   "source": [
    "np.array(y_tests).mean() # классы более менее сболансированны, так что можно обойтись accuracy"
   ]
  },
  {
   "cell_type": "markdown",
   "metadata": {},
   "source": [
    "На удивление модель с перекрытием окна дала результат чуть лучше +1% по accuracy.\n"
   ]
  },
  {
   "cell_type": "markdown",
   "metadata": {},
   "source": [
    "## тензорборда и заключение\n",
    "\n",
    "1. **melspec** не стал использовать так как хотелось разобраться как оно работает, и если честно не успел разобраться. А просто в **librosa** вызвать **librosa.feature.melspectrogram** рука не поднялась.\n",
    "\n",
    "2. на удивление перекрытые окна для ффт не обучились от слова совсем, может был какой баг но я не нашёл. Перекрывающиеся окно как-то тоже можно было сделать через **librosa.core.spectrum.util.frame**, но хотелось досконально разобраться, может что и получилось. \n",
    "\n",
    "3. кажется можно было нормальзовать амплитуды на входе в нейронку, но заморачиваться я не стал, в конце концов так делают чтобы различные по характеристикам фичи влияли одинакого, а в моём случае все фичи были одной природы\n",
    "\n",
    "4. стоит обучиться на всё датасете, но преобразования у меня слишком громоздкие, и делаются долго, а на windows num_workers в даталоадерах странно работают. Да и я по срокам уже завалил. Так что времени уже нет."
   ]
  },
  {
   "cell_type": "code",
   "execution_count": null,
   "metadata": {
    "ExecuteTime": {
     "end_time": "2022-09-04T14:41:04.977698Z",
     "start_time": "2022-09-04T14:41:04.977698Z"
    }
   },
   "outputs": [],
   "source": [
    "!pip3 freeze > requirements.txt"
   ]
  },
  {
   "cell_type": "code",
   "execution_count": null,
   "metadata": {
    "ExecuteTime": {
     "end_time": "2022-09-04T14:41:04.978697Z",
     "start_time": "2022-09-04T14:41:04.978697Z"
    }
   },
   "outputs": [],
   "source": [
    "%load_ext tensorboard\n",
    "%tensorboard --logdir lightning_logs/  --port=8008\n"
   ]
  },
  {
   "cell_type": "markdown",
   "metadata": {},
   "source": [
    "версия 15 это с перекрывающимися окнами. 14 это обычная. "
   ]
  },
  {
   "cell_type": "code",
   "execution_count": null,
   "metadata": {},
   "outputs": [],
   "source": []
  },
  {
   "cell_type": "markdown",
   "metadata": {
    "toc": true
   },
   "source": [
    "<h1>Table of Contents<span class=\"tocSkip\"></span></h1>\n",
    "<div class=\"toc\"><ul class=\"toc-item\"><li><span><a href=\"#Бинарный-классификатор-голосов\" data-toc-modified-id=\"Бинарный-классификатор-голосов-1\"><span class=\"toc-item-num\">1&nbsp;&nbsp;</span>Бинарный классификатор голосов</a></span><ul class=\"toc-item\"><li><span><a href=\"#всякие-установки\" data-toc-modified-id=\"всякие-установки-1.1\"><span class=\"toc-item-num\">1.1&nbsp;&nbsp;</span>всякие установки</a></span></li><li><span><a href=\"#всякие-импорты\" data-toc-modified-id=\"всякие-импорты-1.2\"><span class=\"toc-item-num\">1.2&nbsp;&nbsp;</span>всякие импорты</a></span></li><li><span><a href=\"#загрузка-датасета\" data-toc-modified-id=\"загрузка-датасета-1.3\"><span class=\"toc-item-num\">1.3&nbsp;&nbsp;</span>загрузка датасета</a></span></li><li><span><a href=\"#нейроночки\" data-toc-modified-id=\"нейроночки-1.4\"><span class=\"toc-item-num\">1.4&nbsp;&nbsp;</span>нейроночки</a></span><ul class=\"toc-item\"><li><span><a href=\"#обычная-модель\" data-toc-modified-id=\"обычная-модель-1.4.1\"><span class=\"toc-item-num\">1.4.1&nbsp;&nbsp;</span>обычная модель</a></span><ul class=\"toc-item\"><li><span><a href=\"#датасет\" data-toc-modified-id=\"датасет-1.4.1.1\"><span class=\"toc-item-num\">1.4.1.1&nbsp;&nbsp;</span>датасет</a></span></li><li><span><a href=\"#цикл-тренировки\" data-toc-modified-id=\"цикл-тренировки-1.4.1.2\"><span class=\"toc-item-num\">1.4.1.2&nbsp;&nbsp;</span>цикл тренировки</a></span></li><li><span><a href=\"#проверка-на-тесте\" data-toc-modified-id=\"проверка-на-тесте-1.4.1.3\"><span class=\"toc-item-num\">1.4.1.3&nbsp;&nbsp;</span>проверка на тесте</a></span></li><li><span><a href=\"#резы-на-тесте\" data-toc-modified-id=\"резы-на-тесте-1.4.1.4\"><span class=\"toc-item-num\">1.4.1.4&nbsp;&nbsp;</span>резы на тесте</a></span></li></ul></li><li><span><a href=\"#модель-с-пересекающимися-окнами-для-FFT\" data-toc-modified-id=\"модель-с-пересекающимися-окнами-для-FFT-1.4.2\"><span class=\"toc-item-num\">1.4.2&nbsp;&nbsp;</span>модель с пересекающимися окнами для FFT</a></span><ul class=\"toc-item\"><li><span><a href=\"#датасет\" data-toc-modified-id=\"датасет-1.4.2.1\"><span class=\"toc-item-num\">1.4.2.1&nbsp;&nbsp;</span>датасет</a></span></li><li><span><a href=\"#цикл\" data-toc-modified-id=\"цикл-1.4.2.2\"><span class=\"toc-item-num\">1.4.2.2&nbsp;&nbsp;</span>цикл</a></span></li><li><span><a href=\"#резы-на-тесте\" data-toc-modified-id=\"резы-на-тесте-1.4.2.3\"><span class=\"toc-item-num\">1.4.2.3&nbsp;&nbsp;</span>резы на тесте</a></span></li></ul></li></ul></li><li><span><a href=\"#тензорборда-и-заключение\" data-toc-modified-id=\"тензорборда-и-заключение-1.5\"><span class=\"toc-item-num\">1.5&nbsp;&nbsp;</span>тензорборда и заключение</a></span></li></ul></li></ul></div>"
   ]
  }
 ],
 "metadata": {
  "colab": {
   "collapsed_sections": [],
   "name": "main.ipynb",
   "provenance": []
  },
  "kernelspec": {
   "display_name": "Python 3 (ipykernel)",
   "language": "python",
   "name": "python3"
  },
  "language_info": {
   "codemirror_mode": {
    "name": "ipython",
    "version": 3
   },
   "file_extension": ".py",
   "mimetype": "text/x-python",
   "name": "python",
   "nbconvert_exporter": "python",
   "pygments_lexer": "ipython3",
   "version": "3.7.9"
  },
  "toc": {
   "base_numbering": 1,
   "nav_menu": {},
   "number_sections": true,
   "sideBar": true,
   "skip_h1_title": false,
   "title_cell": "Table of Contents",
   "title_sidebar": "Contents",
   "toc_cell": true,
   "toc_position": {
    "height": "calc(100% - 180px)",
    "left": "10px",
    "top": "150px",
    "width": "426.667px"
   },
   "toc_section_display": true,
   "toc_window_display": true
  },
  "widgets": {
   "application/vnd.jupyter.widget-state+json": {
    "0b5f381012ea4941b46e4c154a61eee5": {
     "model_module": "@jupyter-widgets/base",
     "model_module_version": "2.0.0",
     "model_name": "LayoutModel",
     "state": {
      "_model_module": "@jupyter-widgets/base",
      "_model_module_version": "2.0.0",
      "_model_name": "LayoutModel",
      "_view_count": null,
      "_view_module": "@jupyter-widgets/base",
      "_view_module_version": "2.0.0",
      "_view_name": "LayoutView",
      "align_content": null,
      "align_items": null,
      "align_self": null,
      "border_bottom": null,
      "border_left": null,
      "border_right": null,
      "border_top": null,
      "bottom": null,
      "display": null,
      "flex": null,
      "flex_flow": null,
      "grid_area": null,
      "grid_auto_columns": null,
      "grid_auto_flow": null,
      "grid_auto_rows": null,
      "grid_column": null,
      "grid_gap": null,
      "grid_row": null,
      "grid_template_areas": null,
      "grid_template_columns": null,
      "grid_template_rows": null,
      "height": null,
      "justify_content": null,
      "justify_items": null,
      "left": null,
      "margin": null,
      "max_height": null,
      "max_width": null,
      "min_height": null,
      "min_width": null,
      "object_fit": null,
      "object_position": null,
      "order": null,
      "overflow": null,
      "padding": null,
      "right": null,
      "top": null,
      "visibility": null,
      "width": null
     }
    },
    "1959ae258e7e4dedaa30dea42c263931": {
     "model_module": "@jupyter-widgets/controls",
     "model_module_version": "2.0.0",
     "model_name": "HBoxModel",
     "state": {
      "_dom_classes": [],
      "_model_module": "@jupyter-widgets/controls",
      "_model_module_version": "2.0.0",
      "_model_name": "HBoxModel",
      "_view_count": null,
      "_view_module": "@jupyter-widgets/controls",
      "_view_module_version": "2.0.0",
      "_view_name": "HBoxView",
      "box_style": "",
      "children": [
       "IPY_MODEL_968a8c0d181a47c3a014026f734b57e7",
       "IPY_MODEL_dccf1c3a0953456f8911d5dca6d086c6",
       "IPY_MODEL_b008ab3efc444f5e90dd78290766bbaf"
      ],
      "layout": "IPY_MODEL_f2a2ab8116b7472a960b9bddb8fd189e",
      "tabbable": null,
      "tooltip": null
     }
    },
    "1b9e68ef604b4a808e151fe6e3f54a21": {
     "model_module": "@jupyter-widgets/controls",
     "model_module_version": "2.0.0",
     "model_name": "ProgressStyleModel",
     "state": {
      "_model_module": "@jupyter-widgets/controls",
      "_model_module_version": "2.0.0",
      "_model_name": "ProgressStyleModel",
      "_view_count": null,
      "_view_module": "@jupyter-widgets/base",
      "_view_module_version": "2.0.0",
      "_view_name": "StyleView",
      "bar_color": null,
      "description_width": ""
     }
    },
    "1e8662f747ab4c8080f0e8effb3bee99": {
     "model_module": "@jupyter-widgets/controls",
     "model_module_version": "2.0.0",
     "model_name": "HTMLStyleModel",
     "state": {
      "_model_module": "@jupyter-widgets/controls",
      "_model_module_version": "2.0.0",
      "_model_name": "HTMLStyleModel",
      "_view_count": null,
      "_view_module": "@jupyter-widgets/base",
      "_view_module_version": "2.0.0",
      "_view_name": "StyleView",
      "background": null,
      "description_width": "",
      "font_size": null,
      "text_color": null
     }
    },
    "36f259ba92d3404585f75b7726d2c684": {
     "model_module": "@jupyter-widgets/base",
     "model_module_version": "2.0.0",
     "model_name": "LayoutModel",
     "state": {
      "_model_module": "@jupyter-widgets/base",
      "_model_module_version": "2.0.0",
      "_model_name": "LayoutModel",
      "_view_count": null,
      "_view_module": "@jupyter-widgets/base",
      "_view_module_version": "2.0.0",
      "_view_name": "LayoutView",
      "align_content": null,
      "align_items": null,
      "align_self": null,
      "border_bottom": null,
      "border_left": null,
      "border_right": null,
      "border_top": null,
      "bottom": null,
      "display": null,
      "flex": null,
      "flex_flow": null,
      "grid_area": null,
      "grid_auto_columns": null,
      "grid_auto_flow": null,
      "grid_auto_rows": null,
      "grid_column": null,
      "grid_gap": null,
      "grid_row": null,
      "grid_template_areas": null,
      "grid_template_columns": null,
      "grid_template_rows": null,
      "height": null,
      "justify_content": null,
      "justify_items": null,
      "left": null,
      "margin": null,
      "max_height": null,
      "max_width": null,
      "min_height": null,
      "min_width": null,
      "object_fit": null,
      "object_position": null,
      "order": null,
      "overflow": null,
      "padding": null,
      "right": null,
      "top": null,
      "visibility": null,
      "width": null
     }
    },
    "968a8c0d181a47c3a014026f734b57e7": {
     "model_module": "@jupyter-widgets/controls",
     "model_module_version": "2.0.0",
     "model_name": "HTMLModel",
     "state": {
      "_dom_classes": [],
      "_model_module": "@jupyter-widgets/controls",
      "_model_module_version": "2.0.0",
      "_model_name": "HTMLModel",
      "_view_count": null,
      "_view_module": "@jupyter-widgets/controls",
      "_view_module_version": "2.0.0",
      "_view_name": "HTMLView",
      "description": "",
      "description_allow_html": false,
      "layout": "IPY_MODEL_36f259ba92d3404585f75b7726d2c684",
      "placeholder": "​",
      "style": "IPY_MODEL_1e8662f747ab4c8080f0e8effb3bee99",
      "tabbable": null,
      "tooltip": null,
      "value": "  0%"
     }
    },
    "b008ab3efc444f5e90dd78290766bbaf": {
     "model_module": "@jupyter-widgets/controls",
     "model_module_version": "2.0.0",
     "model_name": "HTMLModel",
     "state": {
      "_dom_classes": [],
      "_model_module": "@jupyter-widgets/controls",
      "_model_module_version": "2.0.0",
      "_model_name": "HTMLModel",
      "_view_count": null,
      "_view_module": "@jupyter-widgets/controls",
      "_view_module_version": "2.0.0",
      "_view_name": "HTMLView",
      "description": "",
      "description_allow_html": false,
      "layout": "IPY_MODEL_d0b0820d8dc64eaa8bb00830aeaa3d2e",
      "placeholder": "​",
      "style": "IPY_MODEL_ef29eeab83fa46b6b723e5979ab0fa67",
      "tabbable": null,
      "tooltip": null,
      "value": " 0/100 [00:00&lt;?, ?it/s]"
     }
    },
    "d0b0820d8dc64eaa8bb00830aeaa3d2e": {
     "model_module": "@jupyter-widgets/base",
     "model_module_version": "2.0.0",
     "model_name": "LayoutModel",
     "state": {
      "_model_module": "@jupyter-widgets/base",
      "_model_module_version": "2.0.0",
      "_model_name": "LayoutModel",
      "_view_count": null,
      "_view_module": "@jupyter-widgets/base",
      "_view_module_version": "2.0.0",
      "_view_name": "LayoutView",
      "align_content": null,
      "align_items": null,
      "align_self": null,
      "border_bottom": null,
      "border_left": null,
      "border_right": null,
      "border_top": null,
      "bottom": null,
      "display": null,
      "flex": null,
      "flex_flow": null,
      "grid_area": null,
      "grid_auto_columns": null,
      "grid_auto_flow": null,
      "grid_auto_rows": null,
      "grid_column": null,
      "grid_gap": null,
      "grid_row": null,
      "grid_template_areas": null,
      "grid_template_columns": null,
      "grid_template_rows": null,
      "height": null,
      "justify_content": null,
      "justify_items": null,
      "left": null,
      "margin": null,
      "max_height": null,
      "max_width": null,
      "min_height": null,
      "min_width": null,
      "object_fit": null,
      "object_position": null,
      "order": null,
      "overflow": null,
      "padding": null,
      "right": null,
      "top": null,
      "visibility": null,
      "width": null
     }
    },
    "dccf1c3a0953456f8911d5dca6d086c6": {
     "model_module": "@jupyter-widgets/controls",
     "model_module_version": "2.0.0",
     "model_name": "FloatProgressModel",
     "state": {
      "_dom_classes": [],
      "_model_module": "@jupyter-widgets/controls",
      "_model_module_version": "2.0.0",
      "_model_name": "FloatProgressModel",
      "_view_count": null,
      "_view_module": "@jupyter-widgets/controls",
      "_view_module_version": "2.0.0",
      "_view_name": "ProgressView",
      "bar_style": "",
      "description": "",
      "description_allow_html": false,
      "layout": "IPY_MODEL_0b5f381012ea4941b46e4c154a61eee5",
      "max": 100,
      "min": 0,
      "orientation": "horizontal",
      "style": "IPY_MODEL_1b9e68ef604b4a808e151fe6e3f54a21",
      "tabbable": null,
      "tooltip": null,
      "value": 0
     }
    },
    "ef29eeab83fa46b6b723e5979ab0fa67": {
     "model_module": "@jupyter-widgets/controls",
     "model_module_version": "2.0.0",
     "model_name": "HTMLStyleModel",
     "state": {
      "_model_module": "@jupyter-widgets/controls",
      "_model_module_version": "2.0.0",
      "_model_name": "HTMLStyleModel",
      "_view_count": null,
      "_view_module": "@jupyter-widgets/base",
      "_view_module_version": "2.0.0",
      "_view_name": "StyleView",
      "background": null,
      "description_width": "",
      "font_size": null,
      "text_color": null
     }
    },
    "f2a2ab8116b7472a960b9bddb8fd189e": {
     "model_module": "@jupyter-widgets/base",
     "model_module_version": "2.0.0",
     "model_name": "LayoutModel",
     "state": {
      "_model_module": "@jupyter-widgets/base",
      "_model_module_version": "2.0.0",
      "_model_name": "LayoutModel",
      "_view_count": null,
      "_view_module": "@jupyter-widgets/base",
      "_view_module_version": "2.0.0",
      "_view_name": "LayoutView",
      "align_content": null,
      "align_items": null,
      "align_self": null,
      "border_bottom": null,
      "border_left": null,
      "border_right": null,
      "border_top": null,
      "bottom": null,
      "display": null,
      "flex": null,
      "flex_flow": null,
      "grid_area": null,
      "grid_auto_columns": null,
      "grid_auto_flow": null,
      "grid_auto_rows": null,
      "grid_column": null,
      "grid_gap": null,
      "grid_row": null,
      "grid_template_areas": null,
      "grid_template_columns": null,
      "grid_template_rows": null,
      "height": null,
      "justify_content": null,
      "justify_items": null,
      "left": null,
      "margin": null,
      "max_height": null,
      "max_width": null,
      "min_height": null,
      "min_width": null,
      "object_fit": null,
      "object_position": null,
      "order": null,
      "overflow": null,
      "padding": null,
      "right": null,
      "top": null,
      "visibility": null,
      "width": null
     }
    }
   }
  }
 },
 "nbformat": 4,
 "nbformat_minor": 1
}
